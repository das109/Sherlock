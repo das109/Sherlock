{
  "cells": [
    {
      "cell_type": "code",
      "source": [
        "from google.colab import drive\n",
        "\n",
        "drive.mount('/content/drive')"
      ],
      "metadata": {
        "id": "_b6bZKgjrHS2",
        "colab": {
          "base_uri": "https://localhost:8080/"
        },
        "outputId": "cf8abdb2-0dbc-48db-ba94-75624cf42497"
      },
      "execution_count": 1,
      "outputs": [
        {
          "output_type": "stream",
          "name": "stdout",
          "text": [
            "Mounted at /content/drive\n"
          ]
        }
      ]
    },
    {
      "cell_type": "code",
      "execution_count": 2,
      "metadata": {
        "colab": {
          "base_uri": "https://localhost:8080/"
        },
        "id": "_FHNk5DLe8PV",
        "outputId": "bb451718-5166-4212-e470-6477bdbe9df6"
      },
      "outputs": [
        {
          "output_type": "stream",
          "name": "stdout",
          "text": [
            "Thu Jun  2 17:46:27 2022       \n",
            "+-----------------------------------------------------------------------------+\n",
            "| NVIDIA-SMI 460.32.03    Driver Version: 460.32.03    CUDA Version: 11.2     |\n",
            "|-------------------------------+----------------------+----------------------+\n",
            "| GPU  Name        Persistence-M| Bus-Id        Disp.A | Volatile Uncorr. ECC |\n",
            "| Fan  Temp  Perf  Pwr:Usage/Cap|         Memory-Usage | GPU-Util  Compute M. |\n",
            "|                               |                      |               MIG M. |\n",
            "|===============================+======================+======================|\n",
            "|   0  Tesla P100-PCIE...  Off  | 00000000:00:04.0 Off |                    0 |\n",
            "| N/A   34C    P0    25W / 250W |      0MiB / 16280MiB |      0%      Default |\n",
            "|                               |                      |                  N/A |\n",
            "+-------------------------------+----------------------+----------------------+\n",
            "                                                                               \n",
            "+-----------------------------------------------------------------------------+\n",
            "| Processes:                                                                  |\n",
            "|  GPU   GI   CI        PID   Type   Process name                  GPU Memory |\n",
            "|        ID   ID                                                   Usage      |\n",
            "|=============================================================================|\n",
            "|  No running processes found                                                 |\n",
            "+-----------------------------------------------------------------------------+\n"
          ]
        }
      ],
      "source": [
        "!ln -sf /opt/bin/nvidia-smi /usr/bin/nvidia-smi\n",
        "import subprocess\n",
        "print(subprocess.getoutput('nvidia-smi'))"
      ]
    },
    {
      "cell_type": "code",
      "execution_count": 3,
      "metadata": {
        "colab": {
          "base_uri": "https://localhost:8080/"
        },
        "id": "g_SQgs2Ue8n4",
        "outputId": "90e76d22-497d-461b-94a9-9cdc58266c4c"
      },
      "outputs": [
        {
          "output_type": "stream",
          "name": "stdout",
          "text": [
            "ffmpeg version 3.4.8-0ubuntu0.2 Copyright (c) 2000-2020 the FFmpeg developers\n",
            "  built with gcc 7 (Ubuntu 7.5.0-3ubuntu1~18.04)\n",
            "  configuration: --prefix=/usr --extra-version=0ubuntu0.2 --toolchain=hardened --libdir=/usr/lib/x86_64-linux-gnu --incdir=/usr/include/x86_64-linux-gnu --enable-gpl --disable-stripping --enable-avresample --enable-avisynth --enable-gnutls --enable-ladspa --enable-libass --enable-libbluray --enable-libbs2b --enable-libcaca --enable-libcdio --enable-libflite --enable-libfontconfig --enable-libfreetype --enable-libfribidi --enable-libgme --enable-libgsm --enable-libmp3lame --enable-libmysofa --enable-libopenjpeg --enable-libopenmpt --enable-libopus --enable-libpulse --enable-librubberband --enable-librsvg --enable-libshine --enable-libsnappy --enable-libsoxr --enable-libspeex --enable-libssh --enable-libtheora --enable-libtwolame --enable-libvorbis --enable-libvpx --enable-libwavpack --enable-libwebp --enable-libx265 --enable-libxml2 --enable-libxvid --enable-libzmq --enable-libzvbi --enable-omx --enable-openal --enable-opengl --enable-sdl2 --enable-libdc1394 --enable-libdrm --enable-libiec61883 --enable-chromaprint --enable-frei0r --enable-libopencv --enable-libx264 --enable-shared\n",
            "  libavutil      55. 78.100 / 55. 78.100\n",
            "  libavcodec     57.107.100 / 57.107.100\n",
            "  libavformat    57. 83.100 / 57. 83.100\n",
            "  libavdevice    57. 10.100 / 57. 10.100\n",
            "  libavfilter     6.107.100 /  6.107.100\n",
            "  libavresample   3.  7.  0 /  3.  7.  0\n",
            "  libswscale      4.  8.100 /  4.  8.100\n",
            "  libswresample   2.  9.100 /  2.  9.100\n",
            "  libpostproc    54.  7.100 / 54.  7.100\n",
            "Hyper fast Audio and Video encoder\n",
            "usage: ffmpeg [options] [[infile options] -i infile]... {[outfile options] outfile}...\n",
            "\n",
            "Use -h to get full help or, even better, run 'man ffmpeg'\n"
          ]
        }
      ],
      "source": [
        "print(subprocess.getoutput('ffmpeg'))"
      ]
    },
    {
      "cell_type": "code",
      "execution_count": 4,
      "metadata": {
        "colab": {
          "base_uri": "https://localhost:8080/"
        },
        "id": "DJjJUF_zfAOQ",
        "outputId": "63bfb4c4-25c6-4a5f-d29f-4a08b2131f5e"
      },
      "outputs": [
        {
          "output_type": "stream",
          "name": "stdout",
          "text": [
            "Cloning into 'MakeItTalk'...\n",
            "remote: Enumerating objects: 650, done.\u001b[K\n",
            "remote: Total 650 (delta 0), reused 0 (delta 0), pack-reused 650\u001b[K\n",
            "Receiving objects: 100% (650/650), 26.21 MiB | 33.68 MiB/s, done.\n",
            "Resolving deltas: 100% (171/171), done.\n"
          ]
        }
      ],
      "source": [
        "!git clone https://github.com/yzhou359/MakeItTalk"
      ]
    },
    {
      "cell_type": "code",
      "execution_count": 5,
      "metadata": {
        "colab": {
          "base_uri": "https://localhost:8080/",
          "height": 1000
        },
        "id": "t4GhhvkDfCbj",
        "outputId": "efd6fa5c-6635-4067-be60-93fb42e8ac72"
      },
      "outputs": [
        {
          "output_type": "stream",
          "name": "stdout",
          "text": [
            "/content/MakeItTalk\n",
            "Looking in indexes: https://pypi.org/simple, https://us-python.pkg.dev/colab-wheels/public/simple/\n",
            "Collecting ffmpeg-python\n",
            "  Downloading ffmpeg_python-0.2.0-py3-none-any.whl (25 kB)\n",
            "Requirement already satisfied: opencv-python in /usr/local/lib/python3.7/dist-packages (from -r requirements.txt (line 2)) (4.1.2.30)\n",
            "Collecting face_alignment\n",
            "  Downloading face_alignment-1.3.5.tar.gz (27 kB)\n",
            "Requirement already satisfied: scikit-learn in /usr/local/lib/python3.7/dist-packages (from -r requirements.txt (line 4)) (1.0.2)\n",
            "Collecting pydub\n",
            "  Downloading pydub-0.25.1-py2.py3-none-any.whl (32 kB)\n",
            "Collecting pynormalize\n",
            "  Downloading pynormalize-0.1.4-py2.py3-none-any.whl (6.5 kB)\n",
            "Requirement already satisfied: soundfile in /usr/local/lib/python3.7/dist-packages (from -r requirements.txt (line 7)) (0.10.3.post1)\n",
            "Requirement already satisfied: librosa in /usr/local/lib/python3.7/dist-packages (from -r requirements.txt (line 8)) (0.8.1)\n",
            "Collecting pysptk\n",
            "  Downloading pysptk-0.1.20.tar.gz (410 kB)\n",
            "\u001b[K     |████████████████████████████████| 410 kB 9.2 MB/s \n",
            "\u001b[?25h  Installing build dependencies ... \u001b[?25l\u001b[?25hdone\n",
            "  Getting requirements to build wheel ... \u001b[?25l\u001b[?25hdone\n",
            "    Preparing wheel metadata ... \u001b[?25l\u001b[?25hdone\n",
            "Collecting pyworld\n",
            "  Downloading pyworld-0.3.0.tar.gz (212 kB)\n",
            "\u001b[K     |████████████████████████████████| 212 kB 53.8 MB/s \n",
            "\u001b[?25h  Installing build dependencies ... \u001b[?25l\u001b[?25hdone\n",
            "  Getting requirements to build wheel ... \u001b[?25l\u001b[?25hdone\n",
            "    Preparing wheel metadata ... \u001b[?25l\u001b[?25hdone\n",
            "Collecting resemblyzer\n",
            "  Downloading Resemblyzer-0.1.1.dev0-py3-none-any.whl (15.7 MB)\n",
            "\u001b[K     |████████████████████████████████| 15.7 MB 28.6 MB/s \n",
            "\u001b[?25hRequirement already satisfied: future in /usr/local/lib/python3.7/dist-packages (from ffmpeg-python->-r requirements.txt (line 1)) (0.16.0)\n",
            "Requirement already satisfied: numpy>=1.14.5 in /usr/local/lib/python3.7/dist-packages (from opencv-python->-r requirements.txt (line 2)) (1.21.6)\n",
            "Requirement already satisfied: torch in /usr/local/lib/python3.7/dist-packages (from face_alignment->-r requirements.txt (line 3)) (1.11.0+cu113)\n",
            "Requirement already satisfied: scipy>=0.17 in /usr/local/lib/python3.7/dist-packages (from face_alignment->-r requirements.txt (line 3)) (1.4.1)\n",
            "Requirement already satisfied: scikit-image in /usr/local/lib/python3.7/dist-packages (from face_alignment->-r requirements.txt (line 3)) (0.18.3)\n",
            "Requirement already satisfied: tqdm in /usr/local/lib/python3.7/dist-packages (from face_alignment->-r requirements.txt (line 3)) (4.64.0)\n",
            "Requirement already satisfied: numba in /usr/local/lib/python3.7/dist-packages (from face_alignment->-r requirements.txt (line 3)) (0.51.2)\n",
            "Requirement already satisfied: joblib>=0.11 in /usr/local/lib/python3.7/dist-packages (from scikit-learn->-r requirements.txt (line 4)) (1.1.0)\n",
            "Requirement already satisfied: threadpoolctl>=2.0.0 in /usr/local/lib/python3.7/dist-packages (from scikit-learn->-r requirements.txt (line 4)) (3.1.0)\n",
            "Collecting mutagen>=1.40.0\n",
            "  Downloading mutagen-1.45.1-py3-none-any.whl (218 kB)\n",
            "\u001b[K     |████████████████████████████████| 218 kB 66.1 MB/s \n",
            "\u001b[?25hRequirement already satisfied: cffi>=1.0 in /usr/local/lib/python3.7/dist-packages (from soundfile->-r requirements.txt (line 7)) (1.15.0)\n",
            "Requirement already satisfied: pycparser in /usr/local/lib/python3.7/dist-packages (from cffi>=1.0->soundfile->-r requirements.txt (line 7)) (2.21)\n",
            "Requirement already satisfied: resampy>=0.2.2 in /usr/local/lib/python3.7/dist-packages (from librosa->-r requirements.txt (line 8)) (0.2.2)\n",
            "Requirement already satisfied: packaging>=20.0 in /usr/local/lib/python3.7/dist-packages (from librosa->-r requirements.txt (line 8)) (21.3)\n",
            "Requirement already satisfied: pooch>=1.0 in /usr/local/lib/python3.7/dist-packages (from librosa->-r requirements.txt (line 8)) (1.6.0)\n",
            "Requirement already satisfied: decorator>=3.0.0 in /usr/local/lib/python3.7/dist-packages (from librosa->-r requirements.txt (line 8)) (4.4.2)\n",
            "Requirement already satisfied: audioread>=2.0.0 in /usr/local/lib/python3.7/dist-packages (from librosa->-r requirements.txt (line 8)) (2.1.9)\n",
            "Requirement already satisfied: setuptools in /usr/local/lib/python3.7/dist-packages (from numba->face_alignment->-r requirements.txt (line 3)) (57.4.0)\n",
            "Requirement already satisfied: llvmlite<0.35,>=0.34.0.dev0 in /usr/local/lib/python3.7/dist-packages (from numba->face_alignment->-r requirements.txt (line 3)) (0.34.0)\n",
            "Requirement already satisfied: pyparsing!=3.0.5,>=2.0.2 in /usr/local/lib/python3.7/dist-packages (from packaging>=20.0->librosa->-r requirements.txt (line 8)) (3.0.9)\n",
            "Requirement already satisfied: requests>=2.19.0 in /usr/local/lib/python3.7/dist-packages (from pooch>=1.0->librosa->-r requirements.txt (line 8)) (2.23.0)\n",
            "Requirement already satisfied: appdirs>=1.3.0 in /usr/local/lib/python3.7/dist-packages (from pooch>=1.0->librosa->-r requirements.txt (line 8)) (1.4.4)\n",
            "Requirement already satisfied: urllib3!=1.25.0,!=1.25.1,<1.26,>=1.21.1 in /usr/local/lib/python3.7/dist-packages (from requests>=2.19.0->pooch>=1.0->librosa->-r requirements.txt (line 8)) (1.24.3)\n",
            "Requirement already satisfied: idna<3,>=2.5 in /usr/local/lib/python3.7/dist-packages (from requests>=2.19.0->pooch>=1.0->librosa->-r requirements.txt (line 8)) (2.10)\n",
            "Requirement already satisfied: certifi>=2017.4.17 in /usr/local/lib/python3.7/dist-packages (from requests>=2.19.0->pooch>=1.0->librosa->-r requirements.txt (line 8)) (2022.5.18.1)\n",
            "Requirement already satisfied: chardet<4,>=3.0.2 in /usr/local/lib/python3.7/dist-packages (from requests>=2.19.0->pooch>=1.0->librosa->-r requirements.txt (line 8)) (3.0.4)\n",
            "Requirement already satisfied: six>=1.3 in /usr/local/lib/python3.7/dist-packages (from resampy>=0.2.2->librosa->-r requirements.txt (line 8)) (1.15.0)\n",
            "Requirement already satisfied: cython>=0.28.0 in /usr/local/lib/python3.7/dist-packages (from pysptk->-r requirements.txt (line 9)) (0.29.30)\n",
            "Collecting typing\n",
            "  Downloading typing-3.7.4.3.tar.gz (78 kB)\n",
            "\u001b[K     |████████████████████████████████| 78 kB 8.2 MB/s \n",
            "\u001b[?25hCollecting webrtcvad>=2.0.10\n",
            "  Downloading webrtcvad-2.0.10.tar.gz (66 kB)\n",
            "\u001b[K     |████████████████████████████████| 66 kB 4.5 MB/s \n",
            "\u001b[?25hRequirement already satisfied: typing-extensions in /usr/local/lib/python3.7/dist-packages (from torch->face_alignment->-r requirements.txt (line 3)) (4.2.0)\n",
            "Requirement already satisfied: networkx>=2.0 in /usr/local/lib/python3.7/dist-packages (from scikit-image->face_alignment->-r requirements.txt (line 3)) (2.6.3)\n",
            "Requirement already satisfied: tifffile>=2019.7.26 in /usr/local/lib/python3.7/dist-packages (from scikit-image->face_alignment->-r requirements.txt (line 3)) (2021.11.2)\n",
            "Requirement already satisfied: PyWavelets>=1.1.1 in /usr/local/lib/python3.7/dist-packages (from scikit-image->face_alignment->-r requirements.txt (line 3)) (1.3.0)\n",
            "Requirement already satisfied: imageio>=2.3.0 in /usr/local/lib/python3.7/dist-packages (from scikit-image->face_alignment->-r requirements.txt (line 3)) (2.4.1)\n",
            "Requirement already satisfied: matplotlib!=3.0.0,>=2.0.0 in /usr/local/lib/python3.7/dist-packages (from scikit-image->face_alignment->-r requirements.txt (line 3)) (3.2.2)\n",
            "Requirement already satisfied: pillow!=7.1.0,!=7.1.1,>=4.3.0 in /usr/local/lib/python3.7/dist-packages (from scikit-image->face_alignment->-r requirements.txt (line 3)) (7.1.2)\n",
            "Requirement already satisfied: cycler>=0.10 in /usr/local/lib/python3.7/dist-packages (from matplotlib!=3.0.0,>=2.0.0->scikit-image->face_alignment->-r requirements.txt (line 3)) (0.11.0)\n",
            "Requirement already satisfied: python-dateutil>=2.1 in /usr/local/lib/python3.7/dist-packages (from matplotlib!=3.0.0,>=2.0.0->scikit-image->face_alignment->-r requirements.txt (line 3)) (2.8.2)\n",
            "Requirement already satisfied: kiwisolver>=1.0.1 in /usr/local/lib/python3.7/dist-packages (from matplotlib!=3.0.0,>=2.0.0->scikit-image->face_alignment->-r requirements.txt (line 3)) (1.4.2)\n",
            "Building wheels for collected packages: face-alignment, pysptk, pyworld, webrtcvad, typing\n",
            "  Building wheel for face-alignment (setup.py) ... \u001b[?25l\u001b[?25hdone\n",
            "  Created wheel for face-alignment: filename=face_alignment-1.3.5-py2.py3-none-any.whl size=28241 sha256=f1989abc899a815a230c0c9278a14b5348e15997173872aa021832a02d3e198d\n",
            "  Stored in directory: /root/.cache/pip/wheels/c9/ba/4d/2d368f55e5f929f9472da59e356fbdf1483f885de80a5bc620\n",
            "  Building wheel for pysptk (PEP 517) ... \u001b[?25l\u001b[?25hdone\n",
            "  Created wheel for pysptk: filename=pysptk-0.1.20-cp37-cp37m-linux_x86_64.whl size=929938 sha256=81a318c4723f79a223d25fefeb8c15bc4afa7ef59f18d6dd3a1987a414ab11f5\n",
            "  Stored in directory: /root/.cache/pip/wheels/dd/37/3f/7583b00bf73e73650aad5d268ee46b95dbd6dffbd237e1bf58\n",
            "  Building wheel for pyworld (PEP 517) ... \u001b[?25l\u001b[?25hdone\n",
            "  Created wheel for pyworld: filename=pyworld-0.3.0-cp37-cp37m-linux_x86_64.whl size=609485 sha256=64368d53c89da8db2147cdc63389c79613bc818bb8cbe35000244eba08563467\n",
            "  Stored in directory: /root/.cache/pip/wheels/e7/7c/11/c775fffa0e1e7b05a6604b4323408a77f80fb4ab304d96b5c6\n",
            "  Building wheel for webrtcvad (setup.py) ... \u001b[?25l\u001b[?25hdone\n",
            "  Created wheel for webrtcvad: filename=webrtcvad-2.0.10-cp37-cp37m-linux_x86_64.whl size=72398 sha256=fec0153b5678a3f8ab1a787e5de16aafad720f19f8549fd93a73d86a3cb77323\n",
            "  Stored in directory: /root/.cache/pip/wheels/11/f9/67/a3158d131f57e1c0a7d8d966a707d4a2fb27567a4fe47723ad\n",
            "  Building wheel for typing (setup.py) ... \u001b[?25l\u001b[?25hdone\n",
            "  Created wheel for typing: filename=typing-3.7.4.3-py3-none-any.whl size=26325 sha256=effe1f56253d95a95ea11c03119677f99c6ae257570e0e5f8fedd9280839db4c\n",
            "  Stored in directory: /root/.cache/pip/wheels/35/f3/15/01aa6571f0a72ee6ae7b827c1491c37a1f72d686fd22b43b0e\n",
            "Successfully built face-alignment pysptk pyworld webrtcvad typing\n",
            "Installing collected packages: webrtcvad, typing, pydub, mutagen, resemblyzer, pyworld, pysptk, pynormalize, ffmpeg-python, face-alignment\n",
            "Successfully installed face-alignment-1.3.5 ffmpeg-python-0.2.0 mutagen-1.45.1 pydub-0.25.1 pynormalize-0.1.4 pysptk-0.1.20 pyworld-0.3.0 resemblyzer-0.1.1.dev0 typing-3.7.4.3 webrtcvad-2.0.10\n"
          ]
        },
        {
          "output_type": "display_data",
          "data": {
            "application/vnd.colab-display-data+json": {
              "pip_warning": {
                "packages": [
                  "typing"
                ]
              }
            }
          },
          "metadata": {}
        },
        {
          "output_type": "stream",
          "name": "stdout",
          "text": [
            "Looking in indexes: https://pypi.org/simple, https://us-python.pkg.dev/colab-wheels/public/simple/\n",
            "Collecting tensorboardX\n",
            "  Downloading tensorboardX-2.5-py2.py3-none-any.whl (125 kB)\n",
            "\u001b[K     |████████████████████████████████| 125 kB 5.2 MB/s \n",
            "\u001b[?25hRequirement already satisfied: numpy in /usr/local/lib/python3.7/dist-packages (from tensorboardX) (1.21.6)\n",
            "Requirement already satisfied: protobuf>=3.8.0 in /usr/local/lib/python3.7/dist-packages (from tensorboardX) (3.17.3)\n",
            "Requirement already satisfied: six in /usr/local/lib/python3.7/dist-packages (from tensorboardX) (1.15.0)\n",
            "Installing collected packages: tensorboardX\n",
            "Successfully installed tensorboardX-2.5\n"
          ]
        }
      ],
      "source": [
        "%cd MakeItTalk/\n",
        "!export PYTHONPATH=/content/MakeItTalk:$PYTHONPATH\n",
        "!pip install -r requirements.txt\n",
        "!pip install tensorboardX"
      ]
    },
    {
      "cell_type": "code",
      "metadata": {
        "id": "SU4abC3iTmXA",
        "outputId": "ca3f4f64-4c10-407d-e9c7-276d8953a817",
        "colab": {
          "base_uri": "https://localhost:8080/"
        }
      },
      "source": [
        "!mkdir examples/dump\n",
        "!mkdir examples/ckpt\n",
        "!pip install gdown\n",
        "!gdown -O examples/ckpt/ckpt_autovc.pth https://drive.google.com/uc?id=1ZiwPp_h62LtjU0DwpelLUoodKPR85K7x\n",
        "!gdown -O examples/ckpt/ckpt_content_branch.pth https://drive.google.com/uc?id=1r3bfEvTVl6pCNw5xwUhEglwDHjWtAqQp\n",
        "!gdown -O examples/ckpt/ckpt_speaker_branch.pth https://drive.google.com/uc?id=1rV0jkyDqPW-aDJcj7xSO6Zt1zSXqn1mu\n",
        "!gdown -O examples/ckpt/ckpt_116_i2i_comb.pth https://drive.google.com/uc?id=1i2LJXKp-yWKIEEgJ7C6cE3_2NirfY_0a\n",
        "!gdown -O examples/dump/emb.pickle https://drive.google.com/uc?id=18-0CYl5E6ungS3H4rRSHjfYvvm-WwjTI"
      ],
      "execution_count": 6,
      "outputs": [
        {
          "output_type": "stream",
          "name": "stdout",
          "text": [
            "Looking in indexes: https://pypi.org/simple, https://us-python.pkg.dev/colab-wheels/public/simple/\n",
            "Requirement already satisfied: gdown in /usr/local/lib/python3.7/dist-packages (4.4.0)\n",
            "Requirement already satisfied: filelock in /usr/local/lib/python3.7/dist-packages (from gdown) (3.7.0)\n",
            "Requirement already satisfied: requests[socks] in /usr/local/lib/python3.7/dist-packages (from gdown) (2.23.0)\n",
            "Requirement already satisfied: six in /usr/local/lib/python3.7/dist-packages (from gdown) (1.15.0)\n",
            "Requirement already satisfied: tqdm in /usr/local/lib/python3.7/dist-packages (from gdown) (4.64.0)\n",
            "Requirement already satisfied: beautifulsoup4 in /usr/local/lib/python3.7/dist-packages (from gdown) (4.6.3)\n",
            "Requirement already satisfied: chardet<4,>=3.0.2 in /usr/local/lib/python3.7/dist-packages (from requests[socks]->gdown) (3.0.4)\n",
            "Requirement already satisfied: certifi>=2017.4.17 in /usr/local/lib/python3.7/dist-packages (from requests[socks]->gdown) (2022.5.18.1)\n",
            "Requirement already satisfied: idna<3,>=2.5 in /usr/local/lib/python3.7/dist-packages (from requests[socks]->gdown) (2.10)\n",
            "Requirement already satisfied: urllib3!=1.25.0,!=1.25.1,<1.26,>=1.21.1 in /usr/local/lib/python3.7/dist-packages (from requests[socks]->gdown) (1.24.3)\n",
            "Requirement already satisfied: PySocks!=1.5.7,>=1.5.6 in /usr/local/lib/python3.7/dist-packages (from requests[socks]->gdown) (1.7.1)\n",
            "Downloading...\n",
            "From: https://drive.google.com/uc?id=1ZiwPp_h62LtjU0DwpelLUoodKPR85K7x\n",
            "To: /content/MakeItTalk/examples/ckpt/ckpt_autovc.pth\n",
            "100% 172M/172M [00:01<00:00, 120MB/s] \n",
            "Downloading...\n",
            "From: https://drive.google.com/uc?id=1r3bfEvTVl6pCNw5xwUhEglwDHjWtAqQp\n",
            "To: /content/MakeItTalk/examples/ckpt/ckpt_content_branch.pth\n",
            "100% 7.88M/7.88M [00:00<00:00, 94.1MB/s]\n",
            "Downloading...\n",
            "From: https://drive.google.com/uc?id=1rV0jkyDqPW-aDJcj7xSO6Zt1zSXqn1mu\n",
            "To: /content/MakeItTalk/examples/ckpt/ckpt_speaker_branch.pth\n",
            "100% 15.4M/15.4M [00:00<00:00, 226MB/s]\n",
            "Downloading...\n",
            "From: https://drive.google.com/uc?id=1i2LJXKp-yWKIEEgJ7C6cE3_2NirfY_0a\n",
            "To: /content/MakeItTalk/examples/ckpt/ckpt_116_i2i_comb.pth\n",
            "100% 839M/839M [00:07<00:00, 117MB/s]\n",
            "Downloading...\n",
            "From: https://drive.google.com/uc?id=18-0CYl5E6ungS3H4rRSHjfYvvm-WwjTI\n",
            "To: /content/MakeItTalk/examples/dump/emb.pickle\n",
            "100% 30.9M/30.9M [00:00<00:00, 308MB/s]\n"
          ]
        }
      ]
    },
    {
      "cell_type": "code",
      "source": [
        "import sys\n",
        "sys.path.append(\"thirdparty/AdaptiveWingLoss\")\n",
        "import os, glob\n",
        "import numpy as np\n",
        "import cv2\n",
        "import argparse\n",
        "from src.approaches.train_image_translation import Image_translation_block\n",
        "import torch\n",
        "import pickle\n",
        "import face_alignment\n",
        "from src.autovc.AutoVC_mel_Convertor_retrain_version import AutoVC_mel_Convertor\n",
        "import shutil\n",
        "import time\n",
        "import util.utils as util\n",
        "from scipy.signal import savgol_filter\n",
        "from src.approaches.train_audio2landmark import Audio2landmark_model"
      ],
      "metadata": {
        "id": "XjitJS310aph"
      },
      "execution_count": 7,
      "outputs": []
    },
    {
      "cell_type": "code",
      "source": [
        "default_head_name = 'sherlock'           # the image name (with no .jpg) to animate\n",
        "ADD_NAIVE_EYE = True                 # whether add naive eye blink\n",
        "CLOSE_INPUT_FACE_MOUTH = False       # if your image has an opened mouth, put this as True, else False\n",
        "AMP_LIP_SHAPE_X = 2.                 # amplify the lip motion in horizontal direction\n",
        "AMP_LIP_SHAPE_Y = 2.                 # amplify the lip motion in vertical direction\n",
        "AMP_HEAD_POSE_MOTION = 0.7           # amplify the head pose motion (usually smaller than 1.0, put it to 0. for a static head pose)"
      ],
      "metadata": {
        "id": "i8lRqLMi0dda"
      },
      "execution_count": 8,
      "outputs": []
    },
    {
      "cell_type": "code",
      "source": [
        "parser = argparse.ArgumentParser()\n",
        "parser.add_argument('--jpg', type=str, default='{}.jpg'.format(default_head_name))\n",
        "parser.add_argument('--close_input_face_mouth', default=CLOSE_INPUT_FACE_MOUTH, action='store_true')\n",
        "\n",
        "parser.add_argument('--load_AUTOVC_name', type=str, default='examples/ckpt/ckpt_autovc.pth')\n",
        "parser.add_argument('--load_a2l_G_name', type=str, default='examples/ckpt/ckpt_speaker_branch.pth')\n",
        "parser.add_argument('--load_a2l_C_name', type=str, default='examples/ckpt/ckpt_content_branch.pth') #ckpt_audio2landmark_c.pth')\n",
        "parser.add_argument('--load_G_name', type=str, default='examples/ckpt/ckpt_116_i2i_comb.pth') #ckpt_image2image.pth') #ckpt_i2i_finetune_150.pth') #c\n",
        "\n",
        "parser.add_argument('--amp_lip_x', type=float, default=AMP_LIP_SHAPE_X)\n",
        "parser.add_argument('--amp_lip_y', type=float, default=AMP_LIP_SHAPE_Y)\n",
        "parser.add_argument('--amp_pos', type=float, default=AMP_HEAD_POSE_MOTION)\n",
        "parser.add_argument('--reuse_train_emb_list', type=str, nargs='+', default=[]) #  ['iWeklsXc0H8']) #['45hn7-LXDX8']) #['E_kmpT-EfOg']) #'iWeklsXc0H8', '29k8RtSUjE0', '45hn7-LXDX8',\n",
        "parser.add_argument('--add_audio_in', default=False, action='store_true')\n",
        "parser.add_argument('--comb_fan_awing', default=False, action='store_true')\n",
        "parser.add_argument('--output_folder', type=str, default='examples')\n",
        "\n",
        "parser.add_argument('--test_end2end', default=True, action='store_true')\n",
        "parser.add_argument('--dump_dir', type=str, default='', help='')\n",
        "parser.add_argument('--pos_dim', default=7, type=int)\n",
        "parser.add_argument('--use_prior_net', default=True, action='store_true')\n",
        "parser.add_argument('--transformer_d_model', default=32, type=int)\n",
        "parser.add_argument('--transformer_N', default=2, type=int)\n",
        "parser.add_argument('--transformer_heads', default=2, type=int)\n",
        "parser.add_argument('--spk_emb_enc_size', default=16, type=int)\n",
        "parser.add_argument('--init_content_encoder', type=str, default='')\n",
        "parser.add_argument('--lr', type=float, default=1e-3, help='learning rate')\n",
        "parser.add_argument('--reg_lr', type=float, default=1e-6, help='weight decay')\n",
        "parser.add_argument('--write', default=False, action='store_true')\n",
        "parser.add_argument('--segment_batch_size', type=int, default=1, help='batch size')\n",
        "parser.add_argument('--emb_coef', default=3.0, type=float)\n",
        "parser.add_argument('--lambda_laplacian_smooth_loss', default=1.0, type=float)\n",
        "parser.add_argument('--use_11spk_only', default=False, action='store_true')\n",
        "parser.add_argument('-f')\n",
        "\n",
        "opt_parser = parser.parse_args()"
      ],
      "metadata": {
        "id": "FBAKfnab0jrj"
      },
      "execution_count": 9,
      "outputs": []
    },
    {
      "cell_type": "code",
      "source": [
        "img =cv2.imread('examples/' + opt_parser.jpg)\n",
        "predictor = face_alignment.FaceAlignment(face_alignment.LandmarksType._3D, device='cpu', flip_input=True)\n",
        "shapes = predictor.get_landmarks(img)\n",
        "if (not shapes or len(shapes) != 1):\n",
        "    print('Cannot detect face landmarks. Exit.')\n",
        "    exit(-1)\n",
        "shape_3d = shapes[0]\n",
        "\n",
        "if(opt_parser.close_input_face_mouth):\n",
        "    util.close_input_face_mouth(shape_3d)"
      ],
      "metadata": {
        "colab": {
          "base_uri": "https://localhost:8080/",
          "height": 167,
          "referenced_widgets": [
            "651a01b895a74961b252ac1b13cd55d3",
            "8dcc59faefdc4f1b867d4313b70b1b83",
            "e5b0332ad6794b008b8eb545caed72ee",
            "95815c9411864fdd9bec0ceb689621bb",
            "e49a8a6befec45c9ac941b7777ac8f9b",
            "a5bc4313ab674a438c14c854426ff4e8",
            "d55b02e94ff8454289ce12821a0adca4",
            "c65ff2a467e54de0a1cdc6fb6c1379a9",
            "8733f7e054c74a1fa8fd123210392def",
            "40733ece52f14523a9a98720ad329054",
            "008d0b34313b44358db5f3cefe5d4eb3",
            "a4297513bab442a7a2c09b4128b873bf",
            "6313102b90e045689b7159397927b3b3",
            "cd3338f8dfef40558e1988adc6c48397",
            "c4aac448fb4646c2b7bd60098bf9617c",
            "99902cdc8edf43c3b5b1e6925ac7515a",
            "5ac8d2631bef426d918e7eaef4136f82",
            "de4e396411a44448aa20f3fbdb7d22e2",
            "42583bbe54e3413ba7ad887cb116827a",
            "90a3c370714448dc891dd8875fa22339",
            "f68a0fda3a9542a7a2f101bf78e595e6",
            "105967a335a34be18df233cb0b047ad2",
            "5fb1f10907e041b18caeb0b23de9ead1",
            "eb3a78df6dd14e719e1ee3836f7bbe0c",
            "a51e8fb454af493b83ccb92b7be01e28",
            "54310dab3cd94701afddf5f124751338",
            "ea13bb766c1c482b9f8de60f9a756e2f",
            "da52dafcd0bb41019c3a2677d0f92211",
            "174d3d49a00c486cb56cedc2c63cf785",
            "62cee4c42b6b4b69a9b8cc3e01aec612",
            "66e01e83c648442dbaa631937318f411",
            "2847fb3533c045d2b25635e6e7caee1d",
            "606e27d9b9d145c2b59f0047b2babbf5"
          ]
        },
        "id": "qVVjBBnw0sdL",
        "outputId": "8b8d2aa9-5c13-4a0d-f44a-b604fce1cd16"
      },
      "execution_count": 10,
      "outputs": [
        {
          "output_type": "stream",
          "name": "stderr",
          "text": [
            "Downloading: \"https://www.adrianbulat.com/downloads/python-fan/s3fd-619a316812.pth\" to /root/.cache/torch/hub/checkpoints/s3fd-619a316812.pth\n"
          ]
        },
        {
          "output_type": "display_data",
          "data": {
            "text/plain": [
              "  0%|          | 0.00/85.7M [00:00<?, ?B/s]"
            ],
            "application/vnd.jupyter.widget-view+json": {
              "version_major": 2,
              "version_minor": 0,
              "model_id": "651a01b895a74961b252ac1b13cd55d3"
            }
          },
          "metadata": {}
        },
        {
          "output_type": "stream",
          "name": "stderr",
          "text": [
            "Downloading: \"https://www.adrianbulat.com/downloads/python-fan/3DFAN4-4a694010b9.zip\" to /root/.cache/torch/hub/checkpoints/3DFAN4-4a694010b9.zip\n"
          ]
        },
        {
          "output_type": "display_data",
          "data": {
            "text/plain": [
              "  0%|          | 0.00/91.9M [00:00<?, ?B/s]"
            ],
            "application/vnd.jupyter.widget-view+json": {
              "version_major": 2,
              "version_minor": 0,
              "model_id": "a4297513bab442a7a2c09b4128b873bf"
            }
          },
          "metadata": {}
        },
        {
          "output_type": "stream",
          "name": "stderr",
          "text": [
            "Downloading: \"https://www.adrianbulat.com/downloads/python-fan/depth-6c4283c0e0.zip\" to /root/.cache/torch/hub/checkpoints/depth-6c4283c0e0.zip\n"
          ]
        },
        {
          "output_type": "display_data",
          "data": {
            "text/plain": [
              "  0%|          | 0.00/224M [00:00<?, ?B/s]"
            ],
            "application/vnd.jupyter.widget-view+json": {
              "version_major": 2,
              "version_minor": 0,
              "model_id": "5fb1f10907e041b18caeb0b23de9ead1"
            }
          },
          "metadata": {}
        }
      ]
    },
    {
      "cell_type": "code",
      "source": [
        "shape_3d[48:, 0] = (shape_3d[48:, 0] - np.mean(shape_3d[48:, 0])) * 1.05 + np.mean(shape_3d[48:, 0]) # wider lips\n",
        "shape_3d[49:54, 1] += 0.           # thinner upper lip\n",
        "shape_3d[55:60, 1] -= 1.           # thinner lower lip\n",
        "shape_3d[[37,38,43,44], 1] -=2.    # larger eyes\n",
        "shape_3d[[40,41,46,47], 1] +=2.    # larger eyes"
      ],
      "metadata": {
        "id": "WD55dYwF0toZ"
      },
      "execution_count": 11,
      "outputs": []
    },
    {
      "cell_type": "code",
      "source": [
        "shape_3d, scale, shift = util.norm_input_face(shape_3d)"
      ],
      "metadata": {
        "id": "K4AHY4dm0wO0"
      },
      "execution_count": 12,
      "outputs": []
    },
    {
      "cell_type": "markdown",
      "source": [
        "TEXT"
      ],
      "metadata": {
        "id": "gkRANhx71lbQ"
      }
    },
    {
      "cell_type": "code",
      "execution_count": 13,
      "metadata": {
        "colab": {
          "base_uri": "https://localhost:8080/"
        },
        "id": "JGngS308jmTa",
        "outputId": "5971ef47-3a4a-4fe7-91de-7caae727ec01"
      },
      "outputs": [
        {
          "output_type": "stream",
          "name": "stdout",
          "text": [
            "Thu Jun  2 17:48:56 2022       \n",
            "+-----------------------------------------------------------------------------+\n",
            "| NVIDIA-SMI 460.32.03    Driver Version: 460.32.03    CUDA Version: 11.2     |\n",
            "|-------------------------------+----------------------+----------------------+\n",
            "| GPU  Name        Persistence-M| Bus-Id        Disp.A | Volatile Uncorr. ECC |\n",
            "| Fan  Temp  Perf  Pwr:Usage/Cap|         Memory-Usage | GPU-Util  Compute M. |\n",
            "|                               |                      |               MIG M. |\n",
            "|===============================+======================+======================|\n",
            "|   0  Tesla P100-PCIE...  Off  | 00000000:00:04.0 Off |                    0 |\n",
            "| N/A   35C    P0    25W / 250W |      2MiB / 16280MiB |      0%      Default |\n",
            "|                               |                      |                  N/A |\n",
            "+-------------------------------+----------------------+----------------------+\n",
            "                                                                               \n",
            "+-----------------------------------------------------------------------------+\n",
            "| Processes:                                                                  |\n",
            "|  GPU   GI   CI        PID   Type   Process name                  GPU Memory |\n",
            "|        ID   ID                                                   Usage      |\n",
            "|=============================================================================|\n",
            "|  No running processes found                                                 |\n",
            "+-----------------------------------------------------------------------------+\n"
          ]
        }
      ],
      "source": [
        "# GPU 정보 \n",
        "!nvidia-smi"
      ]
    },
    {
      "cell_type": "code",
      "execution_count": 14,
      "metadata": {
        "colab": {
          "base_uri": "https://localhost:8080/"
        },
        "id": "QEk8dHhZkHKb",
        "outputId": "23e517d2-1224-4827-b9df-4f33f1cb5c1d"
      },
      "outputs": [
        {
          "output_type": "stream",
          "name": "stdout",
          "text": [
            "Looking in indexes: https://pypi.org/simple, https://us-python.pkg.dev/colab-wheels/public/simple/\n",
            "Collecting mxnet-cu112\n",
            "  Downloading mxnet_cu112-1.9.1-py3-none-manylinux2014_x86_64.whl (499.4 MB)\n",
            "\u001b[K     |████████████████████████████████| 499.4 MB 1.7 kB/s \n",
            "\u001b[?25hRequirement already satisfied: requests<3,>=2.20.0 in /usr/local/lib/python3.7/dist-packages (from mxnet-cu112) (2.23.0)\n",
            "Requirement already satisfied: numpy<2.0.0,>1.16.0 in /usr/local/lib/python3.7/dist-packages (from mxnet-cu112) (1.21.6)\n",
            "Collecting graphviz<0.9.0,>=0.8.1\n",
            "  Downloading graphviz-0.8.4-py2.py3-none-any.whl (16 kB)\n",
            "Requirement already satisfied: idna<3,>=2.5 in /usr/local/lib/python3.7/dist-packages (from requests<3,>=2.20.0->mxnet-cu112) (2.10)\n",
            "Requirement already satisfied: chardet<4,>=3.0.2 in /usr/local/lib/python3.7/dist-packages (from requests<3,>=2.20.0->mxnet-cu112) (3.0.4)\n",
            "Requirement already satisfied: urllib3!=1.25.0,!=1.25.1,<1.26,>=1.21.1 in /usr/local/lib/python3.7/dist-packages (from requests<3,>=2.20.0->mxnet-cu112) (1.24.3)\n",
            "Requirement already satisfied: certifi>=2017.4.17 in /usr/local/lib/python3.7/dist-packages (from requests<3,>=2.20.0->mxnet-cu112) (2022.5.18.1)\n",
            "Installing collected packages: graphviz, mxnet-cu112\n",
            "  Attempting uninstall: graphviz\n",
            "    Found existing installation: graphviz 0.10.1\n",
            "    Uninstalling graphviz-0.10.1:\n",
            "      Successfully uninstalled graphviz-0.10.1\n",
            "Successfully installed graphviz-0.8.4 mxnet-cu112-1.9.1\n"
          ]
        }
      ],
      "source": [
        "!pip install mxnet-cu112"
      ]
    },
    {
      "cell_type": "code",
      "execution_count": 15,
      "metadata": {
        "colab": {
          "base_uri": "https://localhost:8080/"
        },
        "id": "T2PpED_ykMil",
        "outputId": "65a5c0ba-03e1-4ef2-ab0b-dd9f85859c86"
      },
      "outputs": [
        {
          "output_type": "stream",
          "name": "stdout",
          "text": [
            "Looking in indexes: https://pypi.org/simple, https://us-python.pkg.dev/colab-wheels/public/simple/\n",
            "Collecting gluonnlp\n",
            "  Downloading gluonnlp-0.10.0.tar.gz (344 kB)\n",
            "\u001b[K     |████████████████████████████████| 344 kB 5.2 MB/s \n",
            "\u001b[?25hCollecting sentencepiece\n",
            "  Downloading sentencepiece-0.1.96-cp37-cp37m-manylinux_2_17_x86_64.manylinux2014_x86_64.whl (1.2 MB)\n",
            "\u001b[K     |████████████████████████████████| 1.2 MB 31.9 MB/s \n",
            "\u001b[?25hRequirement already satisfied: pandas in /usr/local/lib/python3.7/dist-packages (1.3.5)\n",
            "Requirement already satisfied: numpy>=1.16.0 in /usr/local/lib/python3.7/dist-packages (from gluonnlp) (1.21.6)\n",
            "Requirement already satisfied: cython in /usr/local/lib/python3.7/dist-packages (from gluonnlp) (0.29.30)\n",
            "Requirement already satisfied: packaging in /usr/local/lib/python3.7/dist-packages (from gluonnlp) (21.3)\n",
            "Requirement already satisfied: python-dateutil>=2.7.3 in /usr/local/lib/python3.7/dist-packages (from pandas) (2.8.2)\n",
            "Requirement already satisfied: pytz>=2017.3 in /usr/local/lib/python3.7/dist-packages (from pandas) (2022.1)\n",
            "Requirement already satisfied: six>=1.5 in /usr/local/lib/python3.7/dist-packages (from python-dateutil>=2.7.3->pandas) (1.15.0)\n",
            "Requirement already satisfied: pyparsing!=3.0.5,>=2.0.2 in /usr/local/lib/python3.7/dist-packages (from packaging->gluonnlp) (3.0.9)\n",
            "Building wheels for collected packages: gluonnlp\n",
            "  Building wheel for gluonnlp (setup.py) ... \u001b[?25l\u001b[?25hdone\n",
            "  Created wheel for gluonnlp: filename=gluonnlp-0.10.0-cp37-cp37m-linux_x86_64.whl size=595728 sha256=fedcd11b30bf8a049b23bf8129022039ec16cd3db60be04bdf9b966c6f2d2855\n",
            "  Stored in directory: /root/.cache/pip/wheels/be/b4/06/7f3fdfaf707e6b5e98b79c041e023acffbe395d78a527eae00\n",
            "Successfully built gluonnlp\n",
            "Installing collected packages: sentencepiece, gluonnlp\n",
            "Successfully installed gluonnlp-0.10.0 sentencepiece-0.1.96\n"
          ]
        }
      ],
      "source": [
        "!pip install gluonnlp sentencepiece pandas"
      ]
    },
    {
      "cell_type": "code",
      "execution_count": 16,
      "metadata": {
        "colab": {
          "base_uri": "https://localhost:8080/"
        },
        "id": "Xw1QLehT0_YS",
        "outputId": "e57f4656-5f93-4e3b-9443-10694dacca5d"
      },
      "outputs": [
        {
          "output_type": "stream",
          "name": "stdout",
          "text": [
            "Cloning into 'KoGPT2'...\n",
            "remote: Enumerating objects: 216, done.\u001b[K\n",
            "remote: Counting objects: 100% (95/95), done.\u001b[K\n",
            "remote: Compressing objects: 100% (78/78), done.\u001b[K\n",
            "remote: Total 216 (delta 50), reused 45 (delta 17), pack-reused 121\u001b[K\n",
            "Receiving objects: 100% (216/216), 656.89 KiB | 8.42 MiB/s, done.\n",
            "Resolving deltas: 100% (109/109), done.\n"
          ]
        }
      ],
      "source": [
        "!git clone https://github.com/SKT-AI/KoGPT2.git"
      ]
    },
    {
      "cell_type": "code",
      "execution_count": 17,
      "metadata": {
        "colab": {
          "base_uri": "https://localhost:8080/",
          "height": 1000
        },
        "id": "PPbACBvXhz8w",
        "outputId": "245f8498-21b6-46c4-bf8a-c7fbc8be4dd9"
      },
      "outputs": [
        {
          "output_type": "stream",
          "name": "stdout",
          "text": [
            "Looking in indexes: https://pypi.org/simple, https://us-python.pkg.dev/colab-wheels/public/simple/\n",
            "Collecting transformers\n",
            "  Downloading transformers-4.19.2-py3-none-any.whl (4.2 MB)\n",
            "\u001b[K     |████████████████████████████████| 4.2 MB 5.1 MB/s \n",
            "\u001b[?25hCollecting pytorch_lightning\n",
            "  Downloading pytorch_lightning-1.6.4-py3-none-any.whl (585 kB)\n",
            "\u001b[K     |████████████████████████████████| 585 kB 41.9 MB/s \n",
            "\u001b[?25hRequirement already satisfied: torchtext in /usr/local/lib/python3.7/dist-packages (0.12.0)\n",
            "Requirement already satisfied: tqdm>=4.27 in /usr/local/lib/python3.7/dist-packages (from transformers) (4.64.0)\n",
            "Collecting pyyaml>=5.1\n",
            "  Downloading PyYAML-6.0-cp37-cp37m-manylinux_2_5_x86_64.manylinux1_x86_64.manylinux_2_12_x86_64.manylinux2010_x86_64.whl (596 kB)\n",
            "\u001b[K     |████████████████████████████████| 596 kB 51.4 MB/s \n",
            "\u001b[?25hRequirement already satisfied: regex!=2019.12.17 in /usr/local/lib/python3.7/dist-packages (from transformers) (2019.12.20)\n",
            "Requirement already satisfied: importlib-metadata in /usr/local/lib/python3.7/dist-packages (from transformers) (4.11.4)\n",
            "Requirement already satisfied: numpy>=1.17 in /usr/local/lib/python3.7/dist-packages (from transformers) (1.21.6)\n",
            "Requirement already satisfied: requests in /usr/local/lib/python3.7/dist-packages (from transformers) (2.23.0)\n",
            "Requirement already satisfied: filelock in /usr/local/lib/python3.7/dist-packages (from transformers) (3.7.0)\n",
            "Collecting huggingface-hub<1.0,>=0.1.0\n",
            "  Downloading huggingface_hub-0.7.0-py3-none-any.whl (86 kB)\n",
            "\u001b[K     |████████████████████████████████| 86 kB 5.8 MB/s \n",
            "\u001b[?25hCollecting tokenizers!=0.11.3,<0.13,>=0.11.1\n",
            "  Downloading tokenizers-0.12.1-cp37-cp37m-manylinux_2_12_x86_64.manylinux2010_x86_64.whl (6.6 MB)\n",
            "\u001b[K     |████████████████████████████████| 6.6 MB 33.8 MB/s \n",
            "\u001b[?25hRequirement already satisfied: packaging>=20.0 in /usr/local/lib/python3.7/dist-packages (from transformers) (21.3)\n",
            "Requirement already satisfied: typing-extensions>=3.7.4.3 in /usr/local/lib/python3.7/dist-packages (from huggingface-hub<1.0,>=0.1.0->transformers) (4.2.0)\n",
            "Requirement already satisfied: pyparsing!=3.0.5,>=2.0.2 in /usr/local/lib/python3.7/dist-packages (from packaging>=20.0->transformers) (3.0.9)\n",
            "Requirement already satisfied: tensorboard>=2.2.0 in /usr/local/lib/python3.7/dist-packages (from pytorch_lightning) (2.8.0)\n",
            "Requirement already satisfied: protobuf<=3.20.1 in /usr/local/lib/python3.7/dist-packages (from pytorch_lightning) (3.17.3)\n",
            "Collecting torchmetrics>=0.4.1\n",
            "  Downloading torchmetrics-0.9.0-py3-none-any.whl (418 kB)\n",
            "\u001b[K     |████████████████████████████████| 418 kB 45.7 MB/s \n",
            "\u001b[?25hCollecting fsspec[http]!=2021.06.0,>=2021.05.0\n",
            "  Downloading fsspec-2022.5.0-py3-none-any.whl (140 kB)\n",
            "\u001b[K     |████████████████████████████████| 140 kB 11.5 MB/s \n",
            "\u001b[?25hRequirement already satisfied: torch>=1.8.* in /usr/local/lib/python3.7/dist-packages (from pytorch_lightning) (1.11.0+cu113)\n",
            "Collecting pyDeprecate>=0.3.1\n",
            "  Downloading pyDeprecate-0.3.2-py3-none-any.whl (10 kB)\n",
            "Collecting aiohttp\n",
            "  Downloading aiohttp-3.8.1-cp37-cp37m-manylinux_2_5_x86_64.manylinux1_x86_64.manylinux_2_12_x86_64.manylinux2010_x86_64.whl (1.1 MB)\n",
            "\u001b[K     |████████████████████████████████| 1.1 MB 47.2 MB/s \n",
            "\u001b[?25hRequirement already satisfied: six>=1.9 in /usr/local/lib/python3.7/dist-packages (from protobuf<=3.20.1->pytorch_lightning) (1.15.0)\n",
            "Requirement already satisfied: google-auth<3,>=1.6.3 in /usr/local/lib/python3.7/dist-packages (from tensorboard>=2.2.0->pytorch_lightning) (1.35.0)\n",
            "Requirement already satisfied: wheel>=0.26 in /usr/local/lib/python3.7/dist-packages (from tensorboard>=2.2.0->pytorch_lightning) (0.37.1)\n",
            "Requirement already satisfied: grpcio>=1.24.3 in /usr/local/lib/python3.7/dist-packages (from tensorboard>=2.2.0->pytorch_lightning) (1.46.3)\n",
            "Requirement already satisfied: absl-py>=0.4 in /usr/local/lib/python3.7/dist-packages (from tensorboard>=2.2.0->pytorch_lightning) (1.0.0)\n",
            "Requirement already satisfied: google-auth-oauthlib<0.5,>=0.4.1 in /usr/local/lib/python3.7/dist-packages (from tensorboard>=2.2.0->pytorch_lightning) (0.4.6)\n",
            "Requirement already satisfied: setuptools>=41.0.0 in /usr/local/lib/python3.7/dist-packages (from tensorboard>=2.2.0->pytorch_lightning) (57.4.0)\n",
            "Requirement already satisfied: tensorboard-plugin-wit>=1.6.0 in /usr/local/lib/python3.7/dist-packages (from tensorboard>=2.2.0->pytorch_lightning) (1.8.1)\n",
            "Requirement already satisfied: werkzeug>=0.11.15 in /usr/local/lib/python3.7/dist-packages (from tensorboard>=2.2.0->pytorch_lightning) (1.0.1)\n",
            "Requirement already satisfied: markdown>=2.6.8 in /usr/local/lib/python3.7/dist-packages (from tensorboard>=2.2.0->pytorch_lightning) (3.3.7)\n",
            "Requirement already satisfied: tensorboard-data-server<0.7.0,>=0.6.0 in /usr/local/lib/python3.7/dist-packages (from tensorboard>=2.2.0->pytorch_lightning) (0.6.1)\n",
            "Requirement already satisfied: cachetools<5.0,>=2.0.0 in /usr/local/lib/python3.7/dist-packages (from google-auth<3,>=1.6.3->tensorboard>=2.2.0->pytorch_lightning) (4.2.4)\n",
            "Requirement already satisfied: rsa<5,>=3.1.4 in /usr/local/lib/python3.7/dist-packages (from google-auth<3,>=1.6.3->tensorboard>=2.2.0->pytorch_lightning) (4.8)\n",
            "Requirement already satisfied: pyasn1-modules>=0.2.1 in /usr/local/lib/python3.7/dist-packages (from google-auth<3,>=1.6.3->tensorboard>=2.2.0->pytorch_lightning) (0.2.8)\n",
            "Requirement already satisfied: requests-oauthlib>=0.7.0 in /usr/local/lib/python3.7/dist-packages (from google-auth-oauthlib<0.5,>=0.4.1->tensorboard>=2.2.0->pytorch_lightning) (1.3.1)\n",
            "Requirement already satisfied: zipp>=0.5 in /usr/local/lib/python3.7/dist-packages (from importlib-metadata->transformers) (3.8.0)\n",
            "Requirement already satisfied: pyasn1<0.5.0,>=0.4.6 in /usr/local/lib/python3.7/dist-packages (from pyasn1-modules>=0.2.1->google-auth<3,>=1.6.3->tensorboard>=2.2.0->pytorch_lightning) (0.4.8)\n",
            "Requirement already satisfied: certifi>=2017.4.17 in /usr/local/lib/python3.7/dist-packages (from requests->transformers) (2022.5.18.1)\n",
            "Requirement already satisfied: chardet<4,>=3.0.2 in /usr/local/lib/python3.7/dist-packages (from requests->transformers) (3.0.4)\n",
            "Requirement already satisfied: idna<3,>=2.5 in /usr/local/lib/python3.7/dist-packages (from requests->transformers) (2.10)\n",
            "Requirement already satisfied: urllib3!=1.25.0,!=1.25.1,<1.26,>=1.21.1 in /usr/local/lib/python3.7/dist-packages (from requests->transformers) (1.24.3)\n",
            "Requirement already satisfied: oauthlib>=3.0.0 in /usr/local/lib/python3.7/dist-packages (from requests-oauthlib>=0.7.0->google-auth-oauthlib<0.5,>=0.4.1->tensorboard>=2.2.0->pytorch_lightning) (3.2.0)\n",
            "Collecting yarl<2.0,>=1.0\n",
            "  Downloading yarl-1.7.2-cp37-cp37m-manylinux_2_5_x86_64.manylinux1_x86_64.manylinux_2_12_x86_64.manylinux2010_x86_64.whl (271 kB)\n",
            "\u001b[K     |████████████████████████████████| 271 kB 62.4 MB/s \n",
            "\u001b[?25hRequirement already satisfied: charset-normalizer<3.0,>=2.0 in /usr/local/lib/python3.7/dist-packages (from aiohttp->fsspec[http]!=2021.06.0,>=2021.05.0->pytorch_lightning) (2.0.12)\n",
            "Collecting aiosignal>=1.1.2\n",
            "  Downloading aiosignal-1.2.0-py3-none-any.whl (8.2 kB)\n",
            "Requirement already satisfied: attrs>=17.3.0 in /usr/local/lib/python3.7/dist-packages (from aiohttp->fsspec[http]!=2021.06.0,>=2021.05.0->pytorch_lightning) (21.4.0)\n",
            "Collecting frozenlist>=1.1.1\n",
            "  Downloading frozenlist-1.3.0-cp37-cp37m-manylinux_2_5_x86_64.manylinux1_x86_64.manylinux_2_17_x86_64.manylinux2014_x86_64.whl (144 kB)\n",
            "\u001b[K     |████████████████████████████████| 144 kB 48.0 MB/s \n",
            "\u001b[?25hCollecting asynctest==0.13.0\n",
            "  Downloading asynctest-0.13.0-py3-none-any.whl (26 kB)\n",
            "Collecting async-timeout<5.0,>=4.0.0a3\n",
            "  Downloading async_timeout-4.0.2-py3-none-any.whl (5.8 kB)\n",
            "Collecting multidict<7.0,>=4.5\n",
            "  Downloading multidict-6.0.2-cp37-cp37m-manylinux_2_17_x86_64.manylinux2014_x86_64.whl (94 kB)\n",
            "\u001b[K     |████████████████████████████████| 94 kB 3.2 MB/s \n",
            "\u001b[?25hInstalling collected packages: multidict, frozenlist, yarl, asynctest, async-timeout, aiosignal, pyyaml, fsspec, aiohttp, torchmetrics, tokenizers, pyDeprecate, huggingface-hub, transformers, pytorch-lightning\n",
            "  Attempting uninstall: pyyaml\n",
            "    Found existing installation: PyYAML 3.13\n",
            "    Uninstalling PyYAML-3.13:\n",
            "      Successfully uninstalled PyYAML-3.13\n",
            "Successfully installed aiohttp-3.8.1 aiosignal-1.2.0 async-timeout-4.0.2 asynctest-0.13.0 frozenlist-1.3.0 fsspec-2022.5.0 huggingface-hub-0.7.0 multidict-6.0.2 pyDeprecate-0.3.2 pytorch-lightning-1.6.4 pyyaml-6.0 tokenizers-0.12.1 torchmetrics-0.9.0 transformers-4.19.2 yarl-1.7.2\n"
          ]
        },
        {
          "output_type": "display_data",
          "data": {
            "application/vnd.colab-display-data+json": {
              "pip_warning": {
                "packages": [
                  "yaml"
                ]
              }
            }
          },
          "metadata": {}
        }
      ],
      "source": [
        "!pip install transformers pytorch_lightning torchtext"
      ]
    },
    {
      "cell_type": "code",
      "execution_count": 18,
      "metadata": {
        "colab": {
          "base_uri": "https://localhost:8080/"
        },
        "id": "Xc3-Blkvoo6K",
        "outputId": "c8c8ab3c-8aa2-42c6-cf56-392b4ee6e0e7"
      },
      "outputs": [
        {
          "output_type": "stream",
          "name": "stdout",
          "text": [
            "fatal: destination path 'KoGPT2' already exists and is not an empty directory.\n",
            "[Errno 2] No such file or directory: '/content/KoGPT2/KoGPT2/KoGPT2/KoGPT2-chatbot'\n",
            "/content/MakeItTalk\n",
            "Looking in indexes: https://pypi.org/simple, https://us-python.pkg.dev/colab-wheels/public/simple/\n",
            "Requirement already satisfied: ffmpeg-python in /usr/local/lib/python3.7/dist-packages (from -r requirements.txt (line 1)) (0.2.0)\n",
            "Requirement already satisfied: opencv-python in /usr/local/lib/python3.7/dist-packages (from -r requirements.txt (line 2)) (4.1.2.30)\n",
            "Requirement already satisfied: face_alignment in /usr/local/lib/python3.7/dist-packages (from -r requirements.txt (line 3)) (1.3.5)\n",
            "Requirement already satisfied: scikit-learn in /usr/local/lib/python3.7/dist-packages (from -r requirements.txt (line 4)) (1.0.2)\n",
            "Requirement already satisfied: pydub in /usr/local/lib/python3.7/dist-packages (from -r requirements.txt (line 5)) (0.25.1)\n",
            "Requirement already satisfied: pynormalize in /usr/local/lib/python3.7/dist-packages (from -r requirements.txt (line 6)) (0.1.4)\n",
            "Requirement already satisfied: soundfile in /usr/local/lib/python3.7/dist-packages (from -r requirements.txt (line 7)) (0.10.3.post1)\n",
            "Requirement already satisfied: librosa in /usr/local/lib/python3.7/dist-packages (from -r requirements.txt (line 8)) (0.8.1)\n",
            "Requirement already satisfied: pysptk in /usr/local/lib/python3.7/dist-packages (from -r requirements.txt (line 9)) (0.1.20)\n",
            "Requirement already satisfied: pyworld in /usr/local/lib/python3.7/dist-packages (from -r requirements.txt (line 10)) (0.3.0)\n",
            "Requirement already satisfied: resemblyzer in /usr/local/lib/python3.7/dist-packages (from -r requirements.txt (line 11)) (0.1.1.dev0)\n",
            "Requirement already satisfied: future in /usr/local/lib/python3.7/dist-packages (from ffmpeg-python->-r requirements.txt (line 1)) (0.16.0)\n",
            "Requirement already satisfied: numpy>=1.14.5 in /usr/local/lib/python3.7/dist-packages (from opencv-python->-r requirements.txt (line 2)) (1.21.6)\n",
            "Requirement already satisfied: torch in /usr/local/lib/python3.7/dist-packages (from face_alignment->-r requirements.txt (line 3)) (1.11.0+cu113)\n",
            "Requirement already satisfied: numba in /usr/local/lib/python3.7/dist-packages (from face_alignment->-r requirements.txt (line 3)) (0.51.2)\n",
            "Requirement already satisfied: scipy>=0.17 in /usr/local/lib/python3.7/dist-packages (from face_alignment->-r requirements.txt (line 3)) (1.4.1)\n",
            "Requirement already satisfied: scikit-image in /usr/local/lib/python3.7/dist-packages (from face_alignment->-r requirements.txt (line 3)) (0.18.3)\n",
            "Requirement already satisfied: tqdm in /usr/local/lib/python3.7/dist-packages (from face_alignment->-r requirements.txt (line 3)) (4.64.0)\n",
            "Requirement already satisfied: threadpoolctl>=2.0.0 in /usr/local/lib/python3.7/dist-packages (from scikit-learn->-r requirements.txt (line 4)) (3.1.0)\n",
            "Requirement already satisfied: joblib>=0.11 in /usr/local/lib/python3.7/dist-packages (from scikit-learn->-r requirements.txt (line 4)) (1.1.0)\n",
            "Requirement already satisfied: mutagen>=1.40.0 in /usr/local/lib/python3.7/dist-packages (from pynormalize->-r requirements.txt (line 6)) (1.45.1)\n",
            "Requirement already satisfied: cffi>=1.0 in /usr/local/lib/python3.7/dist-packages (from soundfile->-r requirements.txt (line 7)) (1.15.0)\n",
            "Requirement already satisfied: pycparser in /usr/local/lib/python3.7/dist-packages (from cffi>=1.0->soundfile->-r requirements.txt (line 7)) (2.21)\n",
            "Requirement already satisfied: decorator>=3.0.0 in /usr/local/lib/python3.7/dist-packages (from librosa->-r requirements.txt (line 8)) (4.4.2)\n",
            "Requirement already satisfied: audioread>=2.0.0 in /usr/local/lib/python3.7/dist-packages (from librosa->-r requirements.txt (line 8)) (2.1.9)\n",
            "Requirement already satisfied: resampy>=0.2.2 in /usr/local/lib/python3.7/dist-packages (from librosa->-r requirements.txt (line 8)) (0.2.2)\n",
            "Requirement already satisfied: pooch>=1.0 in /usr/local/lib/python3.7/dist-packages (from librosa->-r requirements.txt (line 8)) (1.6.0)\n",
            "Requirement already satisfied: packaging>=20.0 in /usr/local/lib/python3.7/dist-packages (from librosa->-r requirements.txt (line 8)) (21.3)\n",
            "Requirement already satisfied: llvmlite<0.35,>=0.34.0.dev0 in /usr/local/lib/python3.7/dist-packages (from numba->face_alignment->-r requirements.txt (line 3)) (0.34.0)\n",
            "Requirement already satisfied: setuptools in /usr/local/lib/python3.7/dist-packages (from numba->face_alignment->-r requirements.txt (line 3)) (57.4.0)\n",
            "Requirement already satisfied: pyparsing!=3.0.5,>=2.0.2 in /usr/local/lib/python3.7/dist-packages (from packaging>=20.0->librosa->-r requirements.txt (line 8)) (3.0.9)\n",
            "Requirement already satisfied: appdirs>=1.3.0 in /usr/local/lib/python3.7/dist-packages (from pooch>=1.0->librosa->-r requirements.txt (line 8)) (1.4.4)\n",
            "Requirement already satisfied: requests>=2.19.0 in /usr/local/lib/python3.7/dist-packages (from pooch>=1.0->librosa->-r requirements.txt (line 8)) (2.23.0)\n",
            "Requirement already satisfied: urllib3!=1.25.0,!=1.25.1,<1.26,>=1.21.1 in /usr/local/lib/python3.7/dist-packages (from requests>=2.19.0->pooch>=1.0->librosa->-r requirements.txt (line 8)) (1.24.3)\n",
            "Requirement already satisfied: certifi>=2017.4.17 in /usr/local/lib/python3.7/dist-packages (from requests>=2.19.0->pooch>=1.0->librosa->-r requirements.txt (line 8)) (2022.5.18.1)\n",
            "Requirement already satisfied: idna<3,>=2.5 in /usr/local/lib/python3.7/dist-packages (from requests>=2.19.0->pooch>=1.0->librosa->-r requirements.txt (line 8)) (2.10)\n",
            "Requirement already satisfied: chardet<4,>=3.0.2 in /usr/local/lib/python3.7/dist-packages (from requests>=2.19.0->pooch>=1.0->librosa->-r requirements.txt (line 8)) (3.0.4)\n",
            "Requirement already satisfied: six>=1.3 in /usr/local/lib/python3.7/dist-packages (from resampy>=0.2.2->librosa->-r requirements.txt (line 8)) (1.15.0)\n",
            "Requirement already satisfied: cython>=0.28.0 in /usr/local/lib/python3.7/dist-packages (from pysptk->-r requirements.txt (line 9)) (0.29.30)\n",
            "Requirement already satisfied: typing in /usr/local/lib/python3.7/dist-packages (from resemblyzer->-r requirements.txt (line 11)) (3.7.4.3)\n",
            "Requirement already satisfied: webrtcvad>=2.0.10 in /usr/local/lib/python3.7/dist-packages (from resemblyzer->-r requirements.txt (line 11)) (2.0.10)\n",
            "Requirement already satisfied: typing-extensions in /usr/local/lib/python3.7/dist-packages (from torch->face_alignment->-r requirements.txt (line 3)) (4.2.0)\n",
            "Requirement already satisfied: networkx>=2.0 in /usr/local/lib/python3.7/dist-packages (from scikit-image->face_alignment->-r requirements.txt (line 3)) (2.6.3)\n",
            "Requirement already satisfied: matplotlib!=3.0.0,>=2.0.0 in /usr/local/lib/python3.7/dist-packages (from scikit-image->face_alignment->-r requirements.txt (line 3)) (3.2.2)\n",
            "Requirement already satisfied: pillow!=7.1.0,!=7.1.1,>=4.3.0 in /usr/local/lib/python3.7/dist-packages (from scikit-image->face_alignment->-r requirements.txt (line 3)) (7.1.2)\n",
            "Requirement already satisfied: tifffile>=2019.7.26 in /usr/local/lib/python3.7/dist-packages (from scikit-image->face_alignment->-r requirements.txt (line 3)) (2021.11.2)\n",
            "Requirement already satisfied: imageio>=2.3.0 in /usr/local/lib/python3.7/dist-packages (from scikit-image->face_alignment->-r requirements.txt (line 3)) (2.4.1)\n",
            "Requirement already satisfied: PyWavelets>=1.1.1 in /usr/local/lib/python3.7/dist-packages (from scikit-image->face_alignment->-r requirements.txt (line 3)) (1.3.0)\n",
            "Requirement already satisfied: python-dateutil>=2.1 in /usr/local/lib/python3.7/dist-packages (from matplotlib!=3.0.0,>=2.0.0->scikit-image->face_alignment->-r requirements.txt (line 3)) (2.8.2)\n",
            "Requirement already satisfied: cycler>=0.10 in /usr/local/lib/python3.7/dist-packages (from matplotlib!=3.0.0,>=2.0.0->scikit-image->face_alignment->-r requirements.txt (line 3)) (0.11.0)\n",
            "Requirement already satisfied: kiwisolver>=1.0.1 in /usr/local/lib/python3.7/dist-packages (from matplotlib!=3.0.0,>=2.0.0->scikit-image->face_alignment->-r requirements.txt (line 3)) (1.4.2)\n",
            "\u001b[31mERROR: Directory '.' is not installable. Neither 'setup.py' nor 'pyproject.toml' found.\u001b[0m\n"
          ]
        }
      ],
      "source": [
        "!git clone https://github.com/SKT-AI/KoGPT2.git\n",
        "%cd /content/KoGPT2/KoGPT2/KoGPT2/KoGPT2-chatbot\n",
        "!pip install -r requirements.txt\n",
        "!pip install ."
      ]
    },
    {
      "cell_type": "code",
      "source": [
        "print(torch.__version__)"
      ],
      "metadata": {
        "colab": {
          "base_uri": "https://localhost:8080/"
        },
        "id": "m7NfL43h6M3N",
        "outputId": "a221c767-3ec4-4daf-a4e4-d845df41a88b"
      },
      "execution_count": 19,
      "outputs": [
        {
          "output_type": "stream",
          "name": "stdout",
          "text": [
            "1.11.0+cu113\n"
          ]
        }
      ]
    },
    {
      "cell_type": "code",
      "execution_count": 20,
      "metadata": {
        "id": "dM74cF28riyG"
      },
      "outputs": [],
      "source": [
        "import argparse\n",
        "import logging\n",
        "import re\n",
        "\n",
        "import numpy as np\n",
        "import pandas as pd\n",
        "import torch\n",
        "from torch.utils.data import DataLoader, Dataset\n",
        "from torch.utils.data import DataLoader, Dataset\n",
        "from transformers.optimization import AdamW, get_cosine_schedule_with_warmup\n",
        "from transformers import PreTrainedTokenizerFast, GPT2LMHeadModel"
      ]
    },
    {
      "cell_type": "code",
      "execution_count": 21,
      "metadata": {
        "id": "4QtraPHUibHQ",
        "colab": {
          "base_uri": "https://localhost:8080/"
        },
        "outputId": "b58e1fd7-69f4-4eaf-9bdb-7333e4fc8cbc"
      },
      "outputs": [
        {
          "output_type": "stream",
          "name": "stdout",
          "text": [
            "1.6.4\n"
          ]
        }
      ],
      "source": [
        "import pytorch_lightning as pl\n",
        "print(pl.__version__)"
      ]
    },
    {
      "cell_type": "code",
      "execution_count": 22,
      "metadata": {
        "id": "Nn29RvMchaff"
      },
      "outputs": [],
      "source": [
        "from pytorch_lightning import Trainer\n",
        "from pytorch_lightning.callbacks import ModelCheckpoint\n",
        "from pytorch_lightning.core.lightning import LightningModule"
      ]
    },
    {
      "cell_type": "markdown",
      "source": [
        "## **토크나이저에서 사용되는 토큰들을 정의한 후 사전 학습된 KoGPT 모델과 토크나이저 가져옴**"
      ],
      "metadata": {
        "id": "JTPuAOFKfOoy"
      }
    },
    {
      "cell_type": "code",
      "execution_count": 23,
      "metadata": {
        "id": "iP64FPPirXzf"
      },
      "outputs": [],
      "source": [
        "Q_TKN = '<usr>'\n",
        "A_TKN = '<sys>'\n",
        "BOS = '</s>'\n",
        "EOS = '</s>'\n",
        "MASK = '<unused0>'\n",
        "SENT = '<unused1>'\n",
        "PAD = '<pad>'"
      ]
    },
    {
      "cell_type": "code",
      "execution_count": 24,
      "metadata": {
        "id": "jmlqhiADwNx4",
        "colab": {
          "base_uri": "https://localhost:8080/",
          "height": 206,
          "referenced_widgets": [
            "24e7f7e293ab4ac6afce3b38042e0e8c",
            "498d1500ab404930af26f7aa4936bed7",
            "2c9087e9766c4aa4832ad040cd6f63fa",
            "3374600c3c6f4000819ae3c1dbc4e886",
            "b1104798f677452297da5e889082660c",
            "d48b9c8efeb5493fa7cfddbac714f562",
            "b323a216bfa5423795ae11921f0cf635",
            "541989caba7e4116a2cd80c87adaf85f",
            "3620e34083ce41de90aa7211c608ba62",
            "d17d794b996e4177b0d4d9da65a02de3",
            "24992aafdfd148429ae7bd27a8fcf5fb",
            "42748b5e6ac6431b9e07eb0ce71b8b36",
            "5ee16bf2162e41af9dfc8fea6dbea369",
            "f3bf71e774a640efbc27985b16f82a5b",
            "548c1384f5474ebc8a9504e20a0ed7a9",
            "6f44b9ec54414eb9b21cd0b4884addd8",
            "85b4d74ab5d1444fa0d301caa8b39156",
            "7891fdf808e44523842a1a990dcfa90e",
            "8b05cd51200e41028c10cf6ba735d130",
            "a194488cec78413cb229525ace66139f",
            "0bca6a64560d4ce985ade9f2e97d93cb",
            "d13f2cd7c838489a9bf7772e14f81374",
            "f3deed5816974af99514818f07cc91a1",
            "1c91130fa63f4c19b4d30caa89baba16",
            "1f6cbe7276ae4aa19a8d1f2300eb0f2f",
            "0133e96e4da3407f8461ee18cc96ce94",
            "047869da5f6846e09da28ae48f103544",
            "2cfba50ee50c456ea04c0a5be2c991f8",
            "396e884ccd1c4672b30b82a627de722a",
            "c7ac373f4924478aad89adf1b23a9b7b",
            "8a00cdefb9604fa79080a99fec3a99c1",
            "ba87b8a7b2bf464cb1a173ef789fc2fa",
            "cfe201c5e5614e96b7f9dc8c785918ee"
          ]
        },
        "outputId": "f5cf4c8a-64db-48ea-8c91-2d28a6b70bf5"
      },
      "outputs": [
        {
          "output_type": "display_data",
          "data": {
            "text/plain": [
              "Downloading:   0%|          | 0.00/2.69M [00:00<?, ?B/s]"
            ],
            "application/vnd.jupyter.widget-view+json": {
              "version_major": 2,
              "version_minor": 0,
              "model_id": "24e7f7e293ab4ac6afce3b38042e0e8c"
            }
          },
          "metadata": {}
        },
        {
          "output_type": "display_data",
          "data": {
            "text/plain": [
              "Downloading:   0%|          | 0.00/0.98k [00:00<?, ?B/s]"
            ],
            "application/vnd.jupyter.widget-view+json": {
              "version_major": 2,
              "version_minor": 0,
              "model_id": "42748b5e6ac6431b9e07eb0ce71b8b36"
            }
          },
          "metadata": {}
        },
        {
          "output_type": "stream",
          "name": "stderr",
          "text": [
            "The tokenizer class you load from this checkpoint is not the same type as the class this function is called from. It may result in unexpected tokenization. \n",
            "The tokenizer class you load from this checkpoint is 'GPT2Tokenizer'. \n",
            "The class this function is called from is 'PreTrainedTokenizerFast'.\n"
          ]
        },
        {
          "output_type": "display_data",
          "data": {
            "text/plain": [
              "Downloading:   0%|          | 0.00/490M [00:00<?, ?B/s]"
            ],
            "application/vnd.jupyter.widget-view+json": {
              "version_major": 2,
              "version_minor": 0,
              "model_id": "f3deed5816974af99514818f07cc91a1"
            }
          },
          "metadata": {}
        },
        {
          "output_type": "execute_result",
          "data": {
            "text/plain": [
              "['▁안녕', '하', '세', '요.', '▁한국어', '▁G', 'P', 'T', '-2', '▁입', '니다.', ':)', 'l^o']"
            ]
          },
          "metadata": {},
          "execution_count": 24
        }
      ],
      "source": [
        "from transformers import PreTrainedTokenizerFast\n",
        "\n",
        "koGPT2_TOKENIZER = PreTrainedTokenizerFast.from_pretrained(\"skt/kogpt2-base-v2\", bos_token=BOS, eos_token=EOS, unk_token=\"<unk>\", pad_token=PAD, mask_token=MASK,)\n",
        "model = GPT2LMHeadModel.from_pretrained('skt/kogpt2-base-v2')\n",
        "koGPT2_TOKENIZER.tokenize(\"안녕하세요. 한국어 GPT-2 입니다.:)l^o\")"
      ]
    },
    {
      "cell_type": "code",
      "execution_count": 25,
      "metadata": {
        "id": "5NT8YDxawYjS",
        "colab": {
          "base_uri": "https://localhost:8080/"
        },
        "outputId": "002f6103-e030-41d4-ab02-23fc4bad15e0"
      },
      "outputs": [
        {
          "output_type": "stream",
          "name": "stdout",
          "text": [
            "살인사건이 발생하면 경찰은 사건 발생 후 24시간 이내에 사건을 종결하고 피해자 보호에 최선을 다해야 한다.\n",
            "경찰 관계자는 \"피해자가 신고할 경우 즉시 112로 연락해 도움을 요청하면 된다\"며 \"이번 특별단속을 통해 피해를 입은 분들이 신속하게 구제받을 수 있도록 하겠다\"고 말했다.</d> 서울중앙지검 형사1부(부장검사 신응석)는 지난달 30일 오후 2시께부터 약 한 시간 동안 김 전 차관을 피의자로 불러 조사했다고 1일 밝혔다.\n",
            "검찰이 김씨에게 적용한 혐의는 특정범죄가중처벌법상 뇌물수수다.\n",
            "김씨는 2016년 11월~2020년 12월 사이 박\n"
          ]
        }
      ],
      "source": [
        "text = '살인사건이 발생하면'\n",
        "input_ids = koGPT2_TOKENIZER.encode(text)\n",
        "gen_ids = model.generate(torch.tensor([input_ids]),\n",
        "                           max_length=128,\n",
        "                           repetition_penalty=2.0,\n",
        "                           pad_token_id=koGPT2_TOKENIZER.pad_token_id,\n",
        "                           eos_token_id=koGPT2_TOKENIZER.eos_token_id,\n",
        "                           bos_token_id=koGPT2_TOKENIZER.bos_token_id,\n",
        "                           use_cache=True)\n",
        "generated = koGPT2_TOKENIZER.decode(gen_ids[0,:].tolist())\n",
        "print(generated)"
      ]
    },
    {
      "cell_type": "markdown",
      "source": [
        "## **데이터셋 불러온 후 데이터로더 선언**"
      ],
      "metadata": {
        "id": "UL6sjolYffvN"
      }
    },
    {
      "cell_type": "code",
      "execution_count": 26,
      "metadata": {
        "id": "XpYdaIswb7Ft"
      },
      "outputs": [],
      "source": [
        "Chatbot_Data = pd.read_csv(\"/content/sherlock_1.csv\")"
      ]
    },
    {
      "cell_type": "code",
      "execution_count": 27,
      "metadata": {
        "id": "vsdunSSCdm4f",
        "colab": {
          "base_uri": "https://localhost:8080/",
          "height": 206
        },
        "outputId": "6433020a-dfef-4145-b4f5-54d9a5724d47"
      },
      "outputs": [
        {
          "output_type": "execute_result",
          "data": {
            "text/plain": [
              "         Q          A  label\n",
              "0  자기소개해줘.  셜록 홈즈입니다.      0\n",
              "1    자기소개.  셜록 홈즈입니다.      0\n",
              "2  이름이 뭐야?  셜록 홈즈입니다.      0\n",
              "3   넌 누구야?  셜록 홈즈입니다.      0\n",
              "4      누구?  셜록 홈즈입니다.      0"
            ],
            "text/html": [
              "\n",
              "  <div id=\"df-9664b7b5-a352-465a-a46d-e88c45418df5\">\n",
              "    <div class=\"colab-df-container\">\n",
              "      <div>\n",
              "<style scoped>\n",
              "    .dataframe tbody tr th:only-of-type {\n",
              "        vertical-align: middle;\n",
              "    }\n",
              "\n",
              "    .dataframe tbody tr th {\n",
              "        vertical-align: top;\n",
              "    }\n",
              "\n",
              "    .dataframe thead th {\n",
              "        text-align: right;\n",
              "    }\n",
              "</style>\n",
              "<table border=\"1\" class=\"dataframe\">\n",
              "  <thead>\n",
              "    <tr style=\"text-align: right;\">\n",
              "      <th></th>\n",
              "      <th>Q</th>\n",
              "      <th>A</th>\n",
              "      <th>label</th>\n",
              "    </tr>\n",
              "  </thead>\n",
              "  <tbody>\n",
              "    <tr>\n",
              "      <th>0</th>\n",
              "      <td>자기소개해줘.</td>\n",
              "      <td>셜록 홈즈입니다.</td>\n",
              "      <td>0</td>\n",
              "    </tr>\n",
              "    <tr>\n",
              "      <th>1</th>\n",
              "      <td>자기소개.</td>\n",
              "      <td>셜록 홈즈입니다.</td>\n",
              "      <td>0</td>\n",
              "    </tr>\n",
              "    <tr>\n",
              "      <th>2</th>\n",
              "      <td>이름이 뭐야?</td>\n",
              "      <td>셜록 홈즈입니다.</td>\n",
              "      <td>0</td>\n",
              "    </tr>\n",
              "    <tr>\n",
              "      <th>3</th>\n",
              "      <td>넌 누구야?</td>\n",
              "      <td>셜록 홈즈입니다.</td>\n",
              "      <td>0</td>\n",
              "    </tr>\n",
              "    <tr>\n",
              "      <th>4</th>\n",
              "      <td>누구?</td>\n",
              "      <td>셜록 홈즈입니다.</td>\n",
              "      <td>0</td>\n",
              "    </tr>\n",
              "  </tbody>\n",
              "</table>\n",
              "</div>\n",
              "      <button class=\"colab-df-convert\" onclick=\"convertToInteractive('df-9664b7b5-a352-465a-a46d-e88c45418df5')\"\n",
              "              title=\"Convert this dataframe to an interactive table.\"\n",
              "              style=\"display:none;\">\n",
              "        \n",
              "  <svg xmlns=\"http://www.w3.org/2000/svg\" height=\"24px\"viewBox=\"0 0 24 24\"\n",
              "       width=\"24px\">\n",
              "    <path d=\"M0 0h24v24H0V0z\" fill=\"none\"/>\n",
              "    <path d=\"M18.56 5.44l.94 2.06.94-2.06 2.06-.94-2.06-.94-.94-2.06-.94 2.06-2.06.94zm-11 1L8.5 8.5l.94-2.06 2.06-.94-2.06-.94L8.5 2.5l-.94 2.06-2.06.94zm10 10l.94 2.06.94-2.06 2.06-.94-2.06-.94-.94-2.06-.94 2.06-2.06.94z\"/><path d=\"M17.41 7.96l-1.37-1.37c-.4-.4-.92-.59-1.43-.59-.52 0-1.04.2-1.43.59L10.3 9.45l-7.72 7.72c-.78.78-.78 2.05 0 2.83L4 21.41c.39.39.9.59 1.41.59.51 0 1.02-.2 1.41-.59l7.78-7.78 2.81-2.81c.8-.78.8-2.07 0-2.86zM5.41 20L4 18.59l7.72-7.72 1.47 1.35L5.41 20z\"/>\n",
              "  </svg>\n",
              "      </button>\n",
              "      \n",
              "  <style>\n",
              "    .colab-df-container {\n",
              "      display:flex;\n",
              "      flex-wrap:wrap;\n",
              "      gap: 12px;\n",
              "    }\n",
              "\n",
              "    .colab-df-convert {\n",
              "      background-color: #E8F0FE;\n",
              "      border: none;\n",
              "      border-radius: 50%;\n",
              "      cursor: pointer;\n",
              "      display: none;\n",
              "      fill: #1967D2;\n",
              "      height: 32px;\n",
              "      padding: 0 0 0 0;\n",
              "      width: 32px;\n",
              "    }\n",
              "\n",
              "    .colab-df-convert:hover {\n",
              "      background-color: #E2EBFA;\n",
              "      box-shadow: 0px 1px 2px rgba(60, 64, 67, 0.3), 0px 1px 3px 1px rgba(60, 64, 67, 0.15);\n",
              "      fill: #174EA6;\n",
              "    }\n",
              "\n",
              "    [theme=dark] .colab-df-convert {\n",
              "      background-color: #3B4455;\n",
              "      fill: #D2E3FC;\n",
              "    }\n",
              "\n",
              "    [theme=dark] .colab-df-convert:hover {\n",
              "      background-color: #434B5C;\n",
              "      box-shadow: 0px 1px 3px 1px rgba(0, 0, 0, 0.15);\n",
              "      filter: drop-shadow(0px 1px 2px rgba(0, 0, 0, 0.3));\n",
              "      fill: #FFFFFF;\n",
              "    }\n",
              "  </style>\n",
              "\n",
              "      <script>\n",
              "        const buttonEl =\n",
              "          document.querySelector('#df-9664b7b5-a352-465a-a46d-e88c45418df5 button.colab-df-convert');\n",
              "        buttonEl.style.display =\n",
              "          google.colab.kernel.accessAllowed ? 'block' : 'none';\n",
              "\n",
              "        async function convertToInteractive(key) {\n",
              "          const element = document.querySelector('#df-9664b7b5-a352-465a-a46d-e88c45418df5');\n",
              "          const dataTable =\n",
              "            await google.colab.kernel.invokeFunction('convertToInteractive',\n",
              "                                                     [key], {});\n",
              "          if (!dataTable) return;\n",
              "\n",
              "          const docLinkHtml = 'Like what you see? Visit the ' +\n",
              "            '<a target=\"_blank\" href=https://colab.research.google.com/notebooks/data_table.ipynb>data table notebook</a>'\n",
              "            + ' to learn more about interactive tables.';\n",
              "          element.innerHTML = '';\n",
              "          dataTable['output_type'] = 'display_data';\n",
              "          await google.colab.output.renderOutput(dataTable, element);\n",
              "          const docLink = document.createElement('div');\n",
              "          docLink.innerHTML = docLinkHtml;\n",
              "          element.appendChild(docLink);\n",
              "        }\n",
              "      </script>\n",
              "    </div>\n",
              "  </div>\n",
              "  "
            ]
          },
          "metadata": {},
          "execution_count": 27
        }
      ],
      "source": [
        "Chatbot_Data.head()"
      ]
    },
    {
      "cell_type": "code",
      "execution_count": 28,
      "metadata": {
        "id": "CsCBXFFAcBrV"
      },
      "outputs": [],
      "source": [
        "class ChatbotDataset(Dataset):\n",
        "    def __init__(self, chats, max_len=40):  # 데이터셋의 전처리를 해주는 부분\n",
        "        self._data = chats\n",
        "        self.max_len = max_len\n",
        "        self.q_token = Q_TKN\n",
        "        self.a_token = A_TKN\n",
        "        self.sent_token = SENT\n",
        "        self.eos = EOS\n",
        "        self.mask = MASK\n",
        "        self.tokenizer = koGPT2_TOKENIZER\n",
        "\n",
        "    def __len__(self):  \n",
        "        return len(self._data)\n",
        "\n",
        "    def __getitem__(self, idx):  \n",
        "        turn = self._data.iloc[idx]\n",
        "        q = turn[\"Q\"] \n",
        "        q = re.sub(r\"([?.!,])\", r\" \", q)  \n",
        "\n",
        "        a = turn[\"A\"]  \n",
        "        a = re.sub(r\"([?.!,])\", r\" \", a)  \n",
        "\n",
        "        q_toked = self.tokenizer.tokenize(self.q_token + q + self.sent_token)\n",
        "        q_len = len(q_toked)\n",
        "\n",
        "        a_toked = self.tokenizer.tokenize(self.a_token + a + self.eos)\n",
        "        a_len = len(a_toked)\n",
        "\n",
        "        \n",
        "        if q_len + a_len > self.max_len:\n",
        "            a_len = self.max_len - q_len        \n",
        "            if a_len <= 0:       \n",
        "                q_toked = q_toked[-(int(self.max_len / 2)) :]  \n",
        "                q_len = len(q_toked)\n",
        "                a_len = self.max_len - q_len              \n",
        "            a_toked = a_toked[:a_len]\n",
        "            a_len = len(a_toked)\n",
        "\n",
        "        #질문의 길이 + 답변의 길이가 최대길이보다 크면\n",
        "        if q_len + a_len > self.max_len:\n",
        "            a_len = self.max_len - q_len       \n",
        "            if a_len <= 0:       \n",
        "                q_toked = q_toked[-(int(self.max_len / 2)) :]   \n",
        "                q_len = len(q_toked)\n",
        "                a_len = self.max_len - q_len             \n",
        "            a_toked = a_toked[:a_len]\n",
        "            a_len = len(a_toked)\n",
        "\n",
        "        labels = [self.mask,] * q_len + a_toked[1:]\n",
        "\n",
        "        mask = [0] * q_len + [1] * a_len + [0] * (self.max_len - q_len - a_len)\n",
        "        labels_ids = self.tokenizer.convert_tokens_to_ids(labels)\n",
        "        while len(labels_ids) < self.max_len:\n",
        "            labels_ids += [self.tokenizer.pad_token_id]\n",
        "  \n",
        "        token_ids = self.tokenizer.convert_tokens_to_ids(q_toked + a_toked)\n",
        "\n",
        "        while len(token_ids) < self.max_len:\n",
        "            token_ids += [self.tokenizer.pad_token_id]\n",
        "\n",
        "        return (token_ids, np.array(mask), labels_ids)"
      ]
    },
    {
      "cell_type": "code",
      "execution_count": 29,
      "metadata": {
        "id": "s-LIy1HEcCkZ"
      },
      "outputs": [],
      "source": [
        "def collate_batch(batch):\n",
        "    data = [item[0] for item in batch]\n",
        "    mask = [item[1] for item in batch]\n",
        "    label = [item[2] for item in batch]\n",
        "    return torch.LongTensor(data), torch.LongTensor(mask), torch.LongTensor(label)"
      ]
    },
    {
      "cell_type": "code",
      "execution_count": 30,
      "metadata": {
        "id": "n6WxkUKBmMjL",
        "colab": {
          "base_uri": "https://localhost:8080/"
        },
        "outputId": "2842f13b-036a-4c4d-de54-bac8acf77ed3"
      },
      "outputs": [
        {
          "output_type": "stream",
          "name": "stdout",
          "text": [
            "True\n"
          ]
        }
      ],
      "source": [
        "device = torch.device('cuda')\n",
        "print(torch.cuda.is_available())"
      ]
    },
    {
      "cell_type": "code",
      "execution_count": 31,
      "metadata": {
        "id": "MNRkSvuncE_z"
      },
      "outputs": [],
      "source": [
        "train_set = ChatbotDataset(Chatbot_Data, max_len=40)\n",
        "train_dataloader = DataLoader(train_set, batch_size=32, num_workers=2, shuffle=True, collate_fn=collate_batch)"
      ]
    },
    {
      "cell_type": "markdown",
      "source": [
        "## **모델 학습**"
      ],
      "metadata": {
        "id": "Rs-y6Kkkfzml"
      }
    },
    {
      "cell_type": "code",
      "execution_count": 32,
      "metadata": {
        "id": "kW5mrv1mj9e1",
        "colab": {
          "base_uri": "https://localhost:8080/"
        },
        "outputId": "ae024e17-7130-4390-f21c-9a2da11b7e37"
      },
      "outputs": [
        {
          "output_type": "execute_result",
          "data": {
            "text/plain": [
              "GPT2LMHeadModel(\n",
              "  (transformer): GPT2Model(\n",
              "    (wte): Embedding(51200, 768)\n",
              "    (wpe): Embedding(1024, 768)\n",
              "    (drop): Dropout(p=0.1, inplace=False)\n",
              "    (h): ModuleList(\n",
              "      (0): GPT2Block(\n",
              "        (ln_1): LayerNorm((768,), eps=1e-05, elementwise_affine=True)\n",
              "        (attn): GPT2Attention(\n",
              "          (c_attn): Conv1D()\n",
              "          (c_proj): Conv1D()\n",
              "          (attn_dropout): Dropout(p=0.1, inplace=False)\n",
              "          (resid_dropout): Dropout(p=0.1, inplace=False)\n",
              "        )\n",
              "        (ln_2): LayerNorm((768,), eps=1e-05, elementwise_affine=True)\n",
              "        (mlp): GPT2MLP(\n",
              "          (c_fc): Conv1D()\n",
              "          (c_proj): Conv1D()\n",
              "          (act): NewGELUActivation()\n",
              "          (dropout): Dropout(p=0.1, inplace=False)\n",
              "        )\n",
              "      )\n",
              "      (1): GPT2Block(\n",
              "        (ln_1): LayerNorm((768,), eps=1e-05, elementwise_affine=True)\n",
              "        (attn): GPT2Attention(\n",
              "          (c_attn): Conv1D()\n",
              "          (c_proj): Conv1D()\n",
              "          (attn_dropout): Dropout(p=0.1, inplace=False)\n",
              "          (resid_dropout): Dropout(p=0.1, inplace=False)\n",
              "        )\n",
              "        (ln_2): LayerNorm((768,), eps=1e-05, elementwise_affine=True)\n",
              "        (mlp): GPT2MLP(\n",
              "          (c_fc): Conv1D()\n",
              "          (c_proj): Conv1D()\n",
              "          (act): NewGELUActivation()\n",
              "          (dropout): Dropout(p=0.1, inplace=False)\n",
              "        )\n",
              "      )\n",
              "      (2): GPT2Block(\n",
              "        (ln_1): LayerNorm((768,), eps=1e-05, elementwise_affine=True)\n",
              "        (attn): GPT2Attention(\n",
              "          (c_attn): Conv1D()\n",
              "          (c_proj): Conv1D()\n",
              "          (attn_dropout): Dropout(p=0.1, inplace=False)\n",
              "          (resid_dropout): Dropout(p=0.1, inplace=False)\n",
              "        )\n",
              "        (ln_2): LayerNorm((768,), eps=1e-05, elementwise_affine=True)\n",
              "        (mlp): GPT2MLP(\n",
              "          (c_fc): Conv1D()\n",
              "          (c_proj): Conv1D()\n",
              "          (act): NewGELUActivation()\n",
              "          (dropout): Dropout(p=0.1, inplace=False)\n",
              "        )\n",
              "      )\n",
              "      (3): GPT2Block(\n",
              "        (ln_1): LayerNorm((768,), eps=1e-05, elementwise_affine=True)\n",
              "        (attn): GPT2Attention(\n",
              "          (c_attn): Conv1D()\n",
              "          (c_proj): Conv1D()\n",
              "          (attn_dropout): Dropout(p=0.1, inplace=False)\n",
              "          (resid_dropout): Dropout(p=0.1, inplace=False)\n",
              "        )\n",
              "        (ln_2): LayerNorm((768,), eps=1e-05, elementwise_affine=True)\n",
              "        (mlp): GPT2MLP(\n",
              "          (c_fc): Conv1D()\n",
              "          (c_proj): Conv1D()\n",
              "          (act): NewGELUActivation()\n",
              "          (dropout): Dropout(p=0.1, inplace=False)\n",
              "        )\n",
              "      )\n",
              "      (4): GPT2Block(\n",
              "        (ln_1): LayerNorm((768,), eps=1e-05, elementwise_affine=True)\n",
              "        (attn): GPT2Attention(\n",
              "          (c_attn): Conv1D()\n",
              "          (c_proj): Conv1D()\n",
              "          (attn_dropout): Dropout(p=0.1, inplace=False)\n",
              "          (resid_dropout): Dropout(p=0.1, inplace=False)\n",
              "        )\n",
              "        (ln_2): LayerNorm((768,), eps=1e-05, elementwise_affine=True)\n",
              "        (mlp): GPT2MLP(\n",
              "          (c_fc): Conv1D()\n",
              "          (c_proj): Conv1D()\n",
              "          (act): NewGELUActivation()\n",
              "          (dropout): Dropout(p=0.1, inplace=False)\n",
              "        )\n",
              "      )\n",
              "      (5): GPT2Block(\n",
              "        (ln_1): LayerNorm((768,), eps=1e-05, elementwise_affine=True)\n",
              "        (attn): GPT2Attention(\n",
              "          (c_attn): Conv1D()\n",
              "          (c_proj): Conv1D()\n",
              "          (attn_dropout): Dropout(p=0.1, inplace=False)\n",
              "          (resid_dropout): Dropout(p=0.1, inplace=False)\n",
              "        )\n",
              "        (ln_2): LayerNorm((768,), eps=1e-05, elementwise_affine=True)\n",
              "        (mlp): GPT2MLP(\n",
              "          (c_fc): Conv1D()\n",
              "          (c_proj): Conv1D()\n",
              "          (act): NewGELUActivation()\n",
              "          (dropout): Dropout(p=0.1, inplace=False)\n",
              "        )\n",
              "      )\n",
              "      (6): GPT2Block(\n",
              "        (ln_1): LayerNorm((768,), eps=1e-05, elementwise_affine=True)\n",
              "        (attn): GPT2Attention(\n",
              "          (c_attn): Conv1D()\n",
              "          (c_proj): Conv1D()\n",
              "          (attn_dropout): Dropout(p=0.1, inplace=False)\n",
              "          (resid_dropout): Dropout(p=0.1, inplace=False)\n",
              "        )\n",
              "        (ln_2): LayerNorm((768,), eps=1e-05, elementwise_affine=True)\n",
              "        (mlp): GPT2MLP(\n",
              "          (c_fc): Conv1D()\n",
              "          (c_proj): Conv1D()\n",
              "          (act): NewGELUActivation()\n",
              "          (dropout): Dropout(p=0.1, inplace=False)\n",
              "        )\n",
              "      )\n",
              "      (7): GPT2Block(\n",
              "        (ln_1): LayerNorm((768,), eps=1e-05, elementwise_affine=True)\n",
              "        (attn): GPT2Attention(\n",
              "          (c_attn): Conv1D()\n",
              "          (c_proj): Conv1D()\n",
              "          (attn_dropout): Dropout(p=0.1, inplace=False)\n",
              "          (resid_dropout): Dropout(p=0.1, inplace=False)\n",
              "        )\n",
              "        (ln_2): LayerNorm((768,), eps=1e-05, elementwise_affine=True)\n",
              "        (mlp): GPT2MLP(\n",
              "          (c_fc): Conv1D()\n",
              "          (c_proj): Conv1D()\n",
              "          (act): NewGELUActivation()\n",
              "          (dropout): Dropout(p=0.1, inplace=False)\n",
              "        )\n",
              "      )\n",
              "      (8): GPT2Block(\n",
              "        (ln_1): LayerNorm((768,), eps=1e-05, elementwise_affine=True)\n",
              "        (attn): GPT2Attention(\n",
              "          (c_attn): Conv1D()\n",
              "          (c_proj): Conv1D()\n",
              "          (attn_dropout): Dropout(p=0.1, inplace=False)\n",
              "          (resid_dropout): Dropout(p=0.1, inplace=False)\n",
              "        )\n",
              "        (ln_2): LayerNorm((768,), eps=1e-05, elementwise_affine=True)\n",
              "        (mlp): GPT2MLP(\n",
              "          (c_fc): Conv1D()\n",
              "          (c_proj): Conv1D()\n",
              "          (act): NewGELUActivation()\n",
              "          (dropout): Dropout(p=0.1, inplace=False)\n",
              "        )\n",
              "      )\n",
              "      (9): GPT2Block(\n",
              "        (ln_1): LayerNorm((768,), eps=1e-05, elementwise_affine=True)\n",
              "        (attn): GPT2Attention(\n",
              "          (c_attn): Conv1D()\n",
              "          (c_proj): Conv1D()\n",
              "          (attn_dropout): Dropout(p=0.1, inplace=False)\n",
              "          (resid_dropout): Dropout(p=0.1, inplace=False)\n",
              "        )\n",
              "        (ln_2): LayerNorm((768,), eps=1e-05, elementwise_affine=True)\n",
              "        (mlp): GPT2MLP(\n",
              "          (c_fc): Conv1D()\n",
              "          (c_proj): Conv1D()\n",
              "          (act): NewGELUActivation()\n",
              "          (dropout): Dropout(p=0.1, inplace=False)\n",
              "        )\n",
              "      )\n",
              "      (10): GPT2Block(\n",
              "        (ln_1): LayerNorm((768,), eps=1e-05, elementwise_affine=True)\n",
              "        (attn): GPT2Attention(\n",
              "          (c_attn): Conv1D()\n",
              "          (c_proj): Conv1D()\n",
              "          (attn_dropout): Dropout(p=0.1, inplace=False)\n",
              "          (resid_dropout): Dropout(p=0.1, inplace=False)\n",
              "        )\n",
              "        (ln_2): LayerNorm((768,), eps=1e-05, elementwise_affine=True)\n",
              "        (mlp): GPT2MLP(\n",
              "          (c_fc): Conv1D()\n",
              "          (c_proj): Conv1D()\n",
              "          (act): NewGELUActivation()\n",
              "          (dropout): Dropout(p=0.1, inplace=False)\n",
              "        )\n",
              "      )\n",
              "      (11): GPT2Block(\n",
              "        (ln_1): LayerNorm((768,), eps=1e-05, elementwise_affine=True)\n",
              "        (attn): GPT2Attention(\n",
              "          (c_attn): Conv1D()\n",
              "          (c_proj): Conv1D()\n",
              "          (attn_dropout): Dropout(p=0.1, inplace=False)\n",
              "          (resid_dropout): Dropout(p=0.1, inplace=False)\n",
              "        )\n",
              "        (ln_2): LayerNorm((768,), eps=1e-05, elementwise_affine=True)\n",
              "        (mlp): GPT2MLP(\n",
              "          (c_fc): Conv1D()\n",
              "          (c_proj): Conv1D()\n",
              "          (act): NewGELUActivation()\n",
              "          (dropout): Dropout(p=0.1, inplace=False)\n",
              "        )\n",
              "      )\n",
              "    )\n",
              "    (ln_f): LayerNorm((768,), eps=1e-05, elementwise_affine=True)\n",
              "  )\n",
              "  (lm_head): Linear(in_features=768, out_features=51200, bias=False)\n",
              ")"
            ]
          },
          "metadata": {},
          "execution_count": 32
        }
      ],
      "source": [
        "model.to(device)\n",
        "model.train()"
      ]
    },
    {
      "cell_type": "code",
      "execution_count": 33,
      "metadata": {
        "id": "uoWqzXJxj_Sr"
      },
      "outputs": [],
      "source": [
        "learning_rate = 3e-5\n",
        "criterion = torch.nn.CrossEntropyLoss(reduction=\"none\")\n",
        "optimizer = torch.optim.Adam(model.parameters(), lr=learning_rate)\n",
        "\n",
        "epoch = 10\n",
        "Sneg = -1e18"
      ]
    },
    {
      "cell_type": "code",
      "execution_count": 34,
      "metadata": {
        "colab": {
          "base_uri": "https://localhost:8080/",
          "height": 108
        },
        "id": "CMBc1k9FkCRn",
        "outputId": "c0ec5b4c-ce9f-4612-ec55-0a546191e9c0"
      },
      "outputs": [
        {
          "output_type": "execute_result",
          "data": {
            "text/plain": [
              "'\\nprint (\"start\")\\nfor i in range(0, epoch):\\n    for batch_idx, samples in enumerate(train_dataloader):\\n        optimizer.zero_grad()\\n        token_ids, mask, label = samples\\n        token_ids = token_ids.to(device)\\n        out = model(token_ids)\\n        out = out.logits      \\n        mask_3d = mask.unsqueeze(dim=2).repeat_interleave(repeats=out.shape[2], dim=2)\\n        mask_out = torch.where(mask_3d == 1, out.cpu(), Sneg * torch.ones_like(out).cpu())\\n        loss = criterion(mask_out.transpose(2, 1), label)\\n        avg_loss = loss.sum() / mask.sum()\\n        avg_loss.backward()\\n        optimizer.step()\\nprint (\"end\")\\n'"
            ],
            "application/vnd.google.colaboratory.intrinsic+json": {
              "type": "string"
            }
          },
          "metadata": {},
          "execution_count": 34
        }
      ],
      "source": [
        "'''\n",
        "print (\"start\")\n",
        "for i in range(0, epoch):\n",
        "    for batch_idx, samples in enumerate(train_dataloader):\n",
        "        optimizer.zero_grad()\n",
        "        token_ids, mask, label = samples\n",
        "        token_ids = token_ids.to(device)\n",
        "        out = model(token_ids)\n",
        "        out = out.logits      \n",
        "        mask_3d = mask.unsqueeze(dim=2).repeat_interleave(repeats=out.shape[2], dim=2)\n",
        "        mask_out = torch.where(mask_3d == 1, out.cpu(), Sneg * torch.ones_like(out).cpu())\n",
        "        loss = criterion(mask_out.transpose(2, 1), label)\n",
        "        avg_loss = loss.sum() / mask.sum()\n",
        "        avg_loss.backward()\n",
        "        optimizer.step()\n",
        "print (\"end\")\n",
        "'''"
      ]
    },
    {
      "cell_type": "code",
      "execution_count": 35,
      "metadata": {
        "id": "dCscpSxO-OZ0"
      },
      "outputs": [],
      "source": [
        "#torch.save(model.state_dict(), '/content/model.pt')"
      ]
    },
    {
      "cell_type": "code",
      "execution_count": 36,
      "metadata": {
        "colab": {
          "base_uri": "https://localhost:8080/"
        },
        "id": "oUU2BeCHcJpN",
        "outputId": "cc3ae612-57fd-4036-ba97-f5f97d886f17"
      },
      "outputs": [
        {
          "output_type": "stream",
          "name": "stdout",
          "text": [
            "Looking in indexes: https://pypi.org/simple, https://us-python.pkg.dev/colab-wheels/public/simple/\n",
            "Collecting speechrecognition\n",
            "  Downloading SpeechRecognition-3.8.1-py2.py3-none-any.whl (32.8 MB)\n",
            "\u001b[K     |████████████████████████████████| 32.8 MB 1.3 MB/s \n",
            "\u001b[?25hInstalling collected packages: speechrecognition\n",
            "Successfully installed speechrecognition-3.8.1\n",
            "Looking in indexes: https://pypi.org/simple, https://us-python.pkg.dev/colab-wheels/public/simple/\n",
            "Requirement already satisfied: pygobject in /usr/lib/python3/dist-packages (3.26.1)\n",
            "Looking in indexes: https://pypi.org/simple, https://us-python.pkg.dev/colab-wheels/public/simple/\n",
            "Collecting gTTs\n",
            "  Downloading gTTS-2.2.4-py3-none-any.whl (26 kB)\n",
            "Requirement already satisfied: click in /usr/local/lib/python3.7/dist-packages (from gTTs) (7.1.2)\n",
            "Requirement already satisfied: six in /usr/local/lib/python3.7/dist-packages (from gTTs) (1.15.0)\n",
            "Requirement already satisfied: requests in /usr/local/lib/python3.7/dist-packages (from gTTs) (2.23.0)\n",
            "Requirement already satisfied: certifi>=2017.4.17 in /usr/local/lib/python3.7/dist-packages (from requests->gTTs) (2022.5.18.1)\n",
            "Requirement already satisfied: chardet<4,>=3.0.2 in /usr/local/lib/python3.7/dist-packages (from requests->gTTs) (3.0.4)\n",
            "Requirement already satisfied: urllib3!=1.25.0,!=1.25.1,<1.26,>=1.21.1 in /usr/local/lib/python3.7/dist-packages (from requests->gTTs) (1.24.3)\n",
            "Requirement already satisfied: idna<3,>=2.5 in /usr/local/lib/python3.7/dist-packages (from requests->gTTs) (2.10)\n",
            "Installing collected packages: gTTs\n",
            "Successfully installed gTTs-2.2.4\n"
          ]
        }
      ],
      "source": [
        "!pip install speechrecognition\n",
        "!pip install pygobject\n",
        "!pip install gTTs"
      ]
    },
    {
      "cell_type": "markdown",
      "source": [
        "## **텍스트를 음성파일로 변환**"
      ],
      "metadata": {
        "id": "QsWpytpPkElB"
      }
    },
    {
      "cell_type": "code",
      "execution_count": 37,
      "metadata": {
        "id": "dL0B7CWzcUvC"
      },
      "outputs": [],
      "source": [
        "import speech_recognition as sr\n",
        "from gtts import gTTS\n",
        "import os\n",
        "import time\n",
        "\n",
        "def speak(text, tmp):\n",
        "     tts = gTTS(text=text, lang='ko', slow=False)\n",
        "     filename=\"/content/MakeItTalk/examples/\"+str(tmp)+'.wav'\n",
        "     tts.save(filename)"
      ]
    },
    {
      "cell_type": "code",
      "source": [
        "PATH=\"/content/drive/MyDrive/model.pt\"\n",
        "\n",
        "model2 = GPT2LMHeadModel.from_pretrained('skt/kogpt2-base-v2')\n",
        "model2.load_state_dict(torch.load(PATH))\n",
        "model2.eval()"
      ],
      "metadata": {
        "colab": {
          "base_uri": "https://localhost:8080/"
        },
        "id": "_p4w_CD9ER5t",
        "outputId": "e5413be1-d3b9-44ce-dba6-108ea9e71ab8"
      },
      "execution_count": 38,
      "outputs": [
        {
          "output_type": "execute_result",
          "data": {
            "text/plain": [
              "GPT2LMHeadModel(\n",
              "  (transformer): GPT2Model(\n",
              "    (wte): Embedding(51200, 768)\n",
              "    (wpe): Embedding(1024, 768)\n",
              "    (drop): Dropout(p=0.1, inplace=False)\n",
              "    (h): ModuleList(\n",
              "      (0): GPT2Block(\n",
              "        (ln_1): LayerNorm((768,), eps=1e-05, elementwise_affine=True)\n",
              "        (attn): GPT2Attention(\n",
              "          (c_attn): Conv1D()\n",
              "          (c_proj): Conv1D()\n",
              "          (attn_dropout): Dropout(p=0.1, inplace=False)\n",
              "          (resid_dropout): Dropout(p=0.1, inplace=False)\n",
              "        )\n",
              "        (ln_2): LayerNorm((768,), eps=1e-05, elementwise_affine=True)\n",
              "        (mlp): GPT2MLP(\n",
              "          (c_fc): Conv1D()\n",
              "          (c_proj): Conv1D()\n",
              "          (act): NewGELUActivation()\n",
              "          (dropout): Dropout(p=0.1, inplace=False)\n",
              "        )\n",
              "      )\n",
              "      (1): GPT2Block(\n",
              "        (ln_1): LayerNorm((768,), eps=1e-05, elementwise_affine=True)\n",
              "        (attn): GPT2Attention(\n",
              "          (c_attn): Conv1D()\n",
              "          (c_proj): Conv1D()\n",
              "          (attn_dropout): Dropout(p=0.1, inplace=False)\n",
              "          (resid_dropout): Dropout(p=0.1, inplace=False)\n",
              "        )\n",
              "        (ln_2): LayerNorm((768,), eps=1e-05, elementwise_affine=True)\n",
              "        (mlp): GPT2MLP(\n",
              "          (c_fc): Conv1D()\n",
              "          (c_proj): Conv1D()\n",
              "          (act): NewGELUActivation()\n",
              "          (dropout): Dropout(p=0.1, inplace=False)\n",
              "        )\n",
              "      )\n",
              "      (2): GPT2Block(\n",
              "        (ln_1): LayerNorm((768,), eps=1e-05, elementwise_affine=True)\n",
              "        (attn): GPT2Attention(\n",
              "          (c_attn): Conv1D()\n",
              "          (c_proj): Conv1D()\n",
              "          (attn_dropout): Dropout(p=0.1, inplace=False)\n",
              "          (resid_dropout): Dropout(p=0.1, inplace=False)\n",
              "        )\n",
              "        (ln_2): LayerNorm((768,), eps=1e-05, elementwise_affine=True)\n",
              "        (mlp): GPT2MLP(\n",
              "          (c_fc): Conv1D()\n",
              "          (c_proj): Conv1D()\n",
              "          (act): NewGELUActivation()\n",
              "          (dropout): Dropout(p=0.1, inplace=False)\n",
              "        )\n",
              "      )\n",
              "      (3): GPT2Block(\n",
              "        (ln_1): LayerNorm((768,), eps=1e-05, elementwise_affine=True)\n",
              "        (attn): GPT2Attention(\n",
              "          (c_attn): Conv1D()\n",
              "          (c_proj): Conv1D()\n",
              "          (attn_dropout): Dropout(p=0.1, inplace=False)\n",
              "          (resid_dropout): Dropout(p=0.1, inplace=False)\n",
              "        )\n",
              "        (ln_2): LayerNorm((768,), eps=1e-05, elementwise_affine=True)\n",
              "        (mlp): GPT2MLP(\n",
              "          (c_fc): Conv1D()\n",
              "          (c_proj): Conv1D()\n",
              "          (act): NewGELUActivation()\n",
              "          (dropout): Dropout(p=0.1, inplace=False)\n",
              "        )\n",
              "      )\n",
              "      (4): GPT2Block(\n",
              "        (ln_1): LayerNorm((768,), eps=1e-05, elementwise_affine=True)\n",
              "        (attn): GPT2Attention(\n",
              "          (c_attn): Conv1D()\n",
              "          (c_proj): Conv1D()\n",
              "          (attn_dropout): Dropout(p=0.1, inplace=False)\n",
              "          (resid_dropout): Dropout(p=0.1, inplace=False)\n",
              "        )\n",
              "        (ln_2): LayerNorm((768,), eps=1e-05, elementwise_affine=True)\n",
              "        (mlp): GPT2MLP(\n",
              "          (c_fc): Conv1D()\n",
              "          (c_proj): Conv1D()\n",
              "          (act): NewGELUActivation()\n",
              "          (dropout): Dropout(p=0.1, inplace=False)\n",
              "        )\n",
              "      )\n",
              "      (5): GPT2Block(\n",
              "        (ln_1): LayerNorm((768,), eps=1e-05, elementwise_affine=True)\n",
              "        (attn): GPT2Attention(\n",
              "          (c_attn): Conv1D()\n",
              "          (c_proj): Conv1D()\n",
              "          (attn_dropout): Dropout(p=0.1, inplace=False)\n",
              "          (resid_dropout): Dropout(p=0.1, inplace=False)\n",
              "        )\n",
              "        (ln_2): LayerNorm((768,), eps=1e-05, elementwise_affine=True)\n",
              "        (mlp): GPT2MLP(\n",
              "          (c_fc): Conv1D()\n",
              "          (c_proj): Conv1D()\n",
              "          (act): NewGELUActivation()\n",
              "          (dropout): Dropout(p=0.1, inplace=False)\n",
              "        )\n",
              "      )\n",
              "      (6): GPT2Block(\n",
              "        (ln_1): LayerNorm((768,), eps=1e-05, elementwise_affine=True)\n",
              "        (attn): GPT2Attention(\n",
              "          (c_attn): Conv1D()\n",
              "          (c_proj): Conv1D()\n",
              "          (attn_dropout): Dropout(p=0.1, inplace=False)\n",
              "          (resid_dropout): Dropout(p=0.1, inplace=False)\n",
              "        )\n",
              "        (ln_2): LayerNorm((768,), eps=1e-05, elementwise_affine=True)\n",
              "        (mlp): GPT2MLP(\n",
              "          (c_fc): Conv1D()\n",
              "          (c_proj): Conv1D()\n",
              "          (act): NewGELUActivation()\n",
              "          (dropout): Dropout(p=0.1, inplace=False)\n",
              "        )\n",
              "      )\n",
              "      (7): GPT2Block(\n",
              "        (ln_1): LayerNorm((768,), eps=1e-05, elementwise_affine=True)\n",
              "        (attn): GPT2Attention(\n",
              "          (c_attn): Conv1D()\n",
              "          (c_proj): Conv1D()\n",
              "          (attn_dropout): Dropout(p=0.1, inplace=False)\n",
              "          (resid_dropout): Dropout(p=0.1, inplace=False)\n",
              "        )\n",
              "        (ln_2): LayerNorm((768,), eps=1e-05, elementwise_affine=True)\n",
              "        (mlp): GPT2MLP(\n",
              "          (c_fc): Conv1D()\n",
              "          (c_proj): Conv1D()\n",
              "          (act): NewGELUActivation()\n",
              "          (dropout): Dropout(p=0.1, inplace=False)\n",
              "        )\n",
              "      )\n",
              "      (8): GPT2Block(\n",
              "        (ln_1): LayerNorm((768,), eps=1e-05, elementwise_affine=True)\n",
              "        (attn): GPT2Attention(\n",
              "          (c_attn): Conv1D()\n",
              "          (c_proj): Conv1D()\n",
              "          (attn_dropout): Dropout(p=0.1, inplace=False)\n",
              "          (resid_dropout): Dropout(p=0.1, inplace=False)\n",
              "        )\n",
              "        (ln_2): LayerNorm((768,), eps=1e-05, elementwise_affine=True)\n",
              "        (mlp): GPT2MLP(\n",
              "          (c_fc): Conv1D()\n",
              "          (c_proj): Conv1D()\n",
              "          (act): NewGELUActivation()\n",
              "          (dropout): Dropout(p=0.1, inplace=False)\n",
              "        )\n",
              "      )\n",
              "      (9): GPT2Block(\n",
              "        (ln_1): LayerNorm((768,), eps=1e-05, elementwise_affine=True)\n",
              "        (attn): GPT2Attention(\n",
              "          (c_attn): Conv1D()\n",
              "          (c_proj): Conv1D()\n",
              "          (attn_dropout): Dropout(p=0.1, inplace=False)\n",
              "          (resid_dropout): Dropout(p=0.1, inplace=False)\n",
              "        )\n",
              "        (ln_2): LayerNorm((768,), eps=1e-05, elementwise_affine=True)\n",
              "        (mlp): GPT2MLP(\n",
              "          (c_fc): Conv1D()\n",
              "          (c_proj): Conv1D()\n",
              "          (act): NewGELUActivation()\n",
              "          (dropout): Dropout(p=0.1, inplace=False)\n",
              "        )\n",
              "      )\n",
              "      (10): GPT2Block(\n",
              "        (ln_1): LayerNorm((768,), eps=1e-05, elementwise_affine=True)\n",
              "        (attn): GPT2Attention(\n",
              "          (c_attn): Conv1D()\n",
              "          (c_proj): Conv1D()\n",
              "          (attn_dropout): Dropout(p=0.1, inplace=False)\n",
              "          (resid_dropout): Dropout(p=0.1, inplace=False)\n",
              "        )\n",
              "        (ln_2): LayerNorm((768,), eps=1e-05, elementwise_affine=True)\n",
              "        (mlp): GPT2MLP(\n",
              "          (c_fc): Conv1D()\n",
              "          (c_proj): Conv1D()\n",
              "          (act): NewGELUActivation()\n",
              "          (dropout): Dropout(p=0.1, inplace=False)\n",
              "        )\n",
              "      )\n",
              "      (11): GPT2Block(\n",
              "        (ln_1): LayerNorm((768,), eps=1e-05, elementwise_affine=True)\n",
              "        (attn): GPT2Attention(\n",
              "          (c_attn): Conv1D()\n",
              "          (c_proj): Conv1D()\n",
              "          (attn_dropout): Dropout(p=0.1, inplace=False)\n",
              "          (resid_dropout): Dropout(p=0.1, inplace=False)\n",
              "        )\n",
              "        (ln_2): LayerNorm((768,), eps=1e-05, elementwise_affine=True)\n",
              "        (mlp): GPT2MLP(\n",
              "          (c_fc): Conv1D()\n",
              "          (c_proj): Conv1D()\n",
              "          (act): NewGELUActivation()\n",
              "          (dropout): Dropout(p=0.1, inplace=False)\n",
              "        )\n",
              "      )\n",
              "    )\n",
              "    (ln_f): LayerNorm((768,), eps=1e-05, elementwise_affine=True)\n",
              "  )\n",
              "  (lm_head): Linear(in_features=768, out_features=51200, bias=False)\n",
              ")"
            ]
          },
          "metadata": {},
          "execution_count": 38
        }
      ]
    },
    {
      "cell_type": "markdown",
      "source": [
        "## **챗봇 실행**"
      ],
      "metadata": {
        "id": "Me7h4fWTguEQ"
      }
    },
    {
      "cell_type": "code",
      "execution_count": 44,
      "metadata": {
        "id": "_eHJuLcpkxw-",
        "colab": {
          "base_uri": "https://localhost:8080/"
        },
        "outputId": "4f928056-d478-418d-d0bb-42efd348789e"
      },
      "outputs": [
        {
          "name": "stdout",
          "output_type": "stream",
          "text": [
            "user > 자기소개해봐\n",
            "Sherlock > 셜록 홈즈입니다\n",
            "user > quit\n"
          ]
        }
      ],
      "source": [
        "sent='0'\n",
        "a = \"\"\n",
        "sent_tokens = koGPT2_TOKENIZER.tokenize(sent)\n",
        "tmp = 0\n",
        "with torch.no_grad():\n",
        "    while 1:\n",
        "        q = input(\"user > \").strip()\n",
        "        if q == \"quit\":\n",
        "            break\n",
        "        if q == \"save\":\n",
        "            tmp = tmp + 1\n",
        "            speak(a.strip(), tmp)\n",
        "            continue\n",
        "        a = \"\"\n",
        "        while 1:\n",
        "            input_ids = torch.LongTensor(koGPT2_TOKENIZER.encode(Q_TKN + q + SENT + sent + A_TKN + a)).unsqueeze(dim=0)\n",
        "            input_ids = input_ids.to(device)\n",
        "            pred = model2(input_ids.cpu())\n",
        "            pred = pred.logits\n",
        "            gen = koGPT2_TOKENIZER.convert_ids_to_tokens(torch.argmax(pred, dim=-1).squeeze().cpu().numpy().tolist())[-1]\n",
        "            if gen == EOS:\n",
        "                break\n",
        "            a += gen.replace(\"▁\", \" \")\n",
        "        if a.strip() == \"\":\n",
        "            print(\"Sherlock > 다시 한 번 말해주십시오.\")\n",
        "        print(\"Sherlock > {}\".format(a.strip()))"
      ]
    },
    {
      "cell_type": "code",
      "source": [
        "au_data = []\n",
        "au_emb = []\n",
        "ains = glob.glob1('examples', '*.wav')\n",
        "ains = [item for item in ains if item is not 'tmp.wav']\n",
        "ains.sort()\n",
        "for ain in ains:\n",
        "    os.system('ffmpeg -y -loglevel error -i examples/{} -ar 16000 examples/tmp.wav'.format(ain))\n",
        "    shutil.copyfile('examples/tmp.wav', 'examples/{}'.format(ain))\n",
        "\n",
        "    # au embedding\n",
        "    from thirdparty.resemblyer_util.speaker_emb import get_spk_emb\n",
        "    me, ae = get_spk_emb('examples/{}'.format(ain))\n",
        "    au_emb.append(me.reshape(-1))\n",
        "\n",
        "    print('Processing audio file', ain)\n",
        "    c = AutoVC_mel_Convertor('examples')\n",
        "\n",
        "    au_data_i = c.convert_single_wav_to_autovc_input(audio_filename=os.path.join('examples', ain),\n",
        "           autovc_model_path=opt_parser.load_AUTOVC_name)\n",
        "    au_data += au_data_i\n",
        "if(os.path.isfile('examples/tmp.wav')):\n",
        "    os.remove('examples/tmp.wav')\n",
        "\n",
        "# landmark fake placeholder\n",
        "fl_data = []\n",
        "rot_tran, rot_quat, anchor_t_shape = [], [], []\n",
        "for au, info in au_data:\n",
        "    au_length = au.shape[0]\n",
        "    fl = np.zeros(shape=(au_length, 68 * 3))\n",
        "    fl_data.append((fl, info))\n",
        "    rot_tran.append(np.zeros(shape=(au_length, 3, 4)))\n",
        "    rot_quat.append(np.zeros(shape=(au_length, 4)))\n",
        "    anchor_t_shape.append(np.zeros(shape=(au_length, 68 * 3)))\n",
        "\n",
        "if(os.path.exists(os.path.join('examples', 'dump', 'random_val_fl.pickle'))):\n",
        "    os.remove(os.path.join('examples', 'dump', 'random_val_fl.pickle'))\n",
        "if(os.path.exists(os.path.join('examples', 'dump', 'random_val_fl_interp.pickle'))):\n",
        "    os.remove(os.path.join('examples', 'dump', 'random_val_fl_interp.pickle'))\n",
        "if(os.path.exists(os.path.join('examples', 'dump', 'random_val_au.pickle'))):\n",
        "    os.remove(os.path.join('examples', 'dump', 'random_val_au.pickle'))\n",
        "if (os.path.exists(os.path.join('examples', 'dump', 'random_val_gaze.pickle'))):\n",
        "    os.remove(os.path.join('examples', 'dump', 'random_val_gaze.pickle'))\n",
        "\n",
        "with open(os.path.join('examples', 'dump', 'random_val_fl.pickle'), 'wb') as fp:\n",
        "    pickle.dump(fl_data, fp)\n",
        "with open(os.path.join('examples', 'dump', 'random_val_au.pickle'), 'wb') as fp:\n",
        "    pickle.dump(au_data, fp)\n",
        "with open(os.path.join('examples', 'dump', 'random_val_gaze.pickle'), 'wb') as fp:\n",
        "    gaze = {'rot_trans':rot_tran, 'rot_quat':rot_quat, 'anchor_t_shape':anchor_t_shape}\n",
        "    pickle.dump(gaze, fp)"
      ],
      "metadata": {
        "colab": {
          "base_uri": "https://localhost:8080/"
        },
        "id": "f8Q-IKCb0xQv",
        "outputId": "928b8a08-c854-4d11-f1e0-9aa48fd9b479"
      },
      "execution_count": 40,
      "outputs": [
        {
          "output_type": "stream",
          "name": "stdout",
          "text": [
            "Loaded the voice encoder model on cuda in 0.17 seconds.\n",
            "Processing audio file 1.wav\n",
            "0 out of 0 are in this portion\n",
            "Loaded the voice encoder model on cuda in 0.01 seconds.\n",
            "source shape: torch.Size([1, 256, 80]) torch.Size([1, 256]) torch.Size([1, 256]) torch.Size([1, 256, 257])\n",
            "converted shape: torch.Size([1, 256, 80]) torch.Size([1, 512])\n",
            "Loaded the voice encoder model on cuda in 0.02 seconds.\n",
            "Processing audio file 2.wav\n",
            "0 out of 0 are in this portion\n",
            "Loaded the voice encoder model on cuda in 0.01 seconds.\n",
            "source shape: torch.Size([1, 544, 80]) torch.Size([1, 256]) torch.Size([1, 256]) torch.Size([1, 544, 257])\n",
            "converted shape: torch.Size([1, 544, 80]) torch.Size([1, 1088])\n"
          ]
        }
      ]
    },
    {
      "cell_type": "code",
      "source": [
        "!pwd\n",
        "make_model = Audio2landmark_model(opt_parser, jpg_shape=shape_3d)\n",
        "if(len(opt_parser.reuse_train_emb_list) == 0):\n",
        "    make_model.test(au_emb=au_emb)\n",
        "else:\n",
        "    make_model.test(au_emb=None)"
      ],
      "metadata": {
        "colab": {
          "base_uri": "https://localhost:8080/"
        },
        "id": "FUsFxia203pV",
        "outputId": "76274779-9689-4177-c45d-428d3c2b4345"
      },
      "execution_count": 41,
      "outputs": [
        {
          "output_type": "stream",
          "name": "stdout",
          "text": [
            "/content/MakeItTalk\n",
            "Run on device: cuda\n",
            "Loading Data random_val\n",
            "EVAL num videos: 2\n",
            "G: Running on cuda, total num params = 3.00M\n",
            "======== LOAD PRETRAINED FACE ID MODEL examples/ckpt/ckpt_speaker_branch.pth =========\n",
            "======== LOAD PRETRAINED FACE ID MODEL examples/ckpt/ckpt_content_branch.pth =========\n",
            "====================================\n",
            "48uYS3bHIA8\n",
            "YAZuSHvwVC0\n",
            "0yaLdVk_UyQ\n",
            "E_kmpT-EfOg\n",
            "fQR31F7L3ww\n",
            "JPMZAOGGHh8\n",
            "W6uRNCJmdtI\n",
            "2KL8PfQPmBg\n",
            "p575B7k07a8\n",
            "iUoAe2gXKE4\n",
            "HH-iOC056aQ\n",
            "S8fiWqrZEew\n",
            "ROWN2ssXek8\n",
            "irx71tYyI-Q\n",
            "me6cdZCM2FY\n",
            "OkqHtWOFliM\n",
            "OfPKHc6w2vw\n",
            "1lh57VnuaKE\n",
            "_ldiVrXgZKc\n",
            "H1Xnb_rtgqY\n",
            "45hn7-LXDX8\n",
            "bs7ZWVqAGCU\n",
            "UElg0R7fmlk\n",
            "bCs5SoifsiY\n",
            "1Lx_ZqrK1bM\n",
            "RrnL6Pcjjbw\n",
            "sRbWv2R2hxE\n",
            "wJmdE0G4sEg\n",
            "hE-4e1vEiT8\n",
            "XXbxe3fCQqg\n",
            "02HOKnTjBlQ\n",
            "wAAMEC1OsRc\n",
            "7Sk--XzX8b0\n",
            "I5Lm0Qce5kg\n",
            "qLxfiUMYgQg\n",
            "_VpqWkdcaqM\n",
            "ljIkW4uVVQY\n",
            "5m5iPZNJS6c\n",
            "J-NPsvtQ8lE\n",
            "gOrQyrbptGo\n",
            "43BiUVlNy58\n",
            "swLghyvhoqA\n",
            "X3FCAoFnmdA\n",
            "2NiCRAmwoc4\n",
            "KVUf0J2LAaA\n",
            "YtZS9hH1j24\n",
            "5fZj9Fzi5K0\n",
            "wbWKG26ebMw\n",
            "QgNlXur0wrs\n",
            "qek_5m1MRik\n",
            "rmFsUV5ICKk\n",
            "bEdGv1wixF4\n",
            "ljh5PB6Utsc\n",
            "izudwWTXuUk\n",
            "B08yOvYMF7Y\n",
            "UEmI4r5G-5Y\n",
            "Scujgl9GbHA\n",
            "sxCbrYjBsGA\n",
            "qvQC0w3y_Fo\n",
            "bXpavyiCu10\n",
            "iWeklsXc0H8\n",
            "H00oAfd_GsM\n",
            "Z7WRt--g-h4\n",
            "29k8RtSUjE0\n",
            "E0zgrhQ0QDw\n",
            "9KhvSxKE6Mc\n",
            "qLNvRwMkhik\n",
            "====================================\n"
          ]
        },
        {
          "output_type": "stream",
          "name": "stderr",
          "text": [
            "/content/MakeItTalk/src/approaches/train_audio2landmark.py:98: UserWarning: To copy construct from a tensor, it is recommended to use sourceTensor.clone().detach() or sourceTensor.clone().detach().requires_grad_(True), rather than torch.tensor(sourceTensor).\n",
            "  z = torch.tensor(torch.zeros(aus.shape[0], 128), requires_grad=False, dtype=torch.float).to(device)\n"
          ]
        },
        {
          "output_type": "stream",
          "name": "stdout",
          "text": [
            "examples/1.wav\n",
            "examples/2.wav\n"
          ]
        }
      ]
    },
    {
      "cell_type": "code",
      "source": [
        "fls = glob.glob1('examples', 'pred_fls_*.txt')\n",
        "fls.sort()\n",
        "\n",
        "for i in range(0,len(fls)):\n",
        "    fl = np.loadtxt(os.path.join('examples', fls[i])).reshape((-1, 68,3))\n",
        "    fl[:, :, 0:2] = -fl[:, :, 0:2]\n",
        "    fl[:, :, 0:2] = fl[:, :, 0:2] / scale - shift\n",
        "\n",
        "    if (ADD_NAIVE_EYE):\n",
        "        fl = util.add_naive_eye(fl)\n",
        "\n",
        "    # additional smooth\n",
        "    fl = fl.reshape((-1, 204))\n",
        "    fl[:, :48 * 3] = savgol_filter(fl[:, :48 * 3], 15, 3, axis=0)\n",
        "    fl[:, 48*3:] = savgol_filter(fl[:, 48*3:], 5, 3, axis=0)\n",
        "    fl = fl.reshape((-1, 68, 3))\n",
        "\n",
        "    ''' STEP 6: Imag2image translation '''\n",
        "    make_model = Image_translation_block(opt_parser, single_test=True)\n",
        "    with torch.no_grad():\n",
        "        make_model.single_test(jpg=img, fls=fl, filename=fls[i], prefix=opt_parser.jpg.split('.')[0])\n",
        "        print('finish image2image gen')\n",
        "    os.remove(os.path.join('examples', fls[i]))"
      ],
      "metadata": {
        "colab": {
          "base_uri": "https://localhost:8080/"
        },
        "id": "RkOqZ7R707Md",
        "outputId": "ebf00939-b3df-4cf1-81fe-c917488e4a54"
      },
      "execution_count": 42,
      "outputs": [
        {
          "output_type": "stream",
          "name": "stdout",
          "text": [
            "Run on device cuda\n",
            "Time - only video: 5.400049448013306\n",
            "Time - ffmpeg add audio: 7.043004512786865\n",
            "finish image2image gen\n",
            "Run on device cuda\n",
            "Time - only video: 12.701277017593384\n",
            "Time - ffmpeg add audio: 20.101120948791504\n",
            "finish image2image gen\n"
          ]
        }
      ]
    },
    {
      "cell_type": "code",
      "source": [
        "from IPython.display import HTML\n",
        "from base64 import b64encode\n",
        "\n",
        "for ain in ains:\n",
        "  OUTPUT_MP4_NAME = '{}_pred_fls_{}_audio_embed.mp4'.format(\n",
        "    opt_parser.jpg.split('.')[0],\n",
        "    ain.split('.')[0]\n",
        "    )\n",
        "  mp4 = open('examples/{}'.format(OUTPUT_MP4_NAME),'rb').read()\n",
        "  data_url = \"data:video/mp4;base64,\" + b64encode(mp4).decode()\n",
        "\n",
        "  print('Display animation: examples/{}'.format(OUTPUT_MP4_NAME))\n",
        "  display(HTML(\"\"\"\n",
        "  <video width=600 controls>\n",
        "        <source src=\"%s\" type=\"video/mp4\">\n",
        "  </video>\n",
        "  \"\"\" % data_url))"
      ],
      "metadata": {
        "colab": {
          "base_uri": "https://localhost:8080/",
          "height": 459
        },
        "id": "lXEuz-Gs1l_E",
        "outputId": "1f4063db-e7f7-4384-f3e2-b788dc3a7f39"
      },
      "execution_count": 43,
      "outputs": [
        {
          "output_type": "stream",
          "name": "stdout",
          "text": [
            "Display animation: examples/sherlock_pred_fls_1_audio_embed.mp4\n"
          ]
        },
        {
          "output_type": "display_data",
          "data": {
            "text/plain": [
              "<IPython.core.display.HTML object>"
            ],
            "text/html": [
              "\n",
              "  <video width=600 controls>\n",
              "        <source src=\"data:video/mp4;base64,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\" type=\"video/mp4\">\n",
              "  </video>\n",
              "  "
            ]
          },
          "metadata": {}
        },
        {
          "output_type": "stream",
          "name": "stdout",
          "text": [
            "Display animation: examples/sherlock_pred_fls_2_audio_embed.mp4\n"
          ]
        },
        {
          "output_type": "display_data",
          "data": {
            "text/plain": [
              "<IPython.core.display.HTML object>"
            ],
            "text/html": [
              "\n",
              "  <video width=600 controls>\n",
              "        <source src=\"data:video/mp4;base64,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\" type=\"video/mp4\">\n",
              "  </video>\n",
              "  "
            ]
          },
          "metadata": {}
        }
      ]
    }
  ],
  "metadata": {
    "accelerator": "GPU",
    "colab": {
      "collapsed_sections": [],
      "name": "셜록홈즈_기말.ipynb",
      "provenance": []
    },
    "kernelspec": {
      "display_name": "Python 3",
      "name": "python3"
    },
    "language_info": {
      "name": "python"
    },
    "widgets": {
      "application/vnd.jupyter.widget-state+json": {
        "651a01b895a74961b252ac1b13cd55d3": {
          "model_module": "@jupyter-widgets/controls",
          "model_name": "HBoxModel",
          "model_module_version": "1.5.0",
          "state": {
            "_dom_classes": [],
            "_model_module": "@jupyter-widgets/controls",
            "_model_module_version": "1.5.0",
            "_model_name": "HBoxModel",
            "_view_count": null,
            "_view_module": "@jupyter-widgets/controls",
            "_view_module_version": "1.5.0",
            "_view_name": "HBoxView",
            "box_style": "",
            "children": [
              "IPY_MODEL_8dcc59faefdc4f1b867d4313b70b1b83",
              "IPY_MODEL_e5b0332ad6794b008b8eb545caed72ee",
              "IPY_MODEL_95815c9411864fdd9bec0ceb689621bb"
            ],
            "layout": "IPY_MODEL_e49a8a6befec45c9ac941b7777ac8f9b"
          }
        },
        "8dcc59faefdc4f1b867d4313b70b1b83": {
          "model_module": "@jupyter-widgets/controls",
          "model_name": "HTMLModel",
          "model_module_version": "1.5.0",
          "state": {
            "_dom_classes": [],
            "_model_module": "@jupyter-widgets/controls",
            "_model_module_version": "1.5.0",
            "_model_name": "HTMLModel",
            "_view_count": null,
            "_view_module": "@jupyter-widgets/controls",
            "_view_module_version": "1.5.0",
            "_view_name": "HTMLView",
            "description": "",
            "description_tooltip": null,
            "layout": "IPY_MODEL_a5bc4313ab674a438c14c854426ff4e8",
            "placeholder": "​",
            "style": "IPY_MODEL_d55b02e94ff8454289ce12821a0adca4",
            "value": "100%"
          }
        },
        "e5b0332ad6794b008b8eb545caed72ee": {
          "model_module": "@jupyter-widgets/controls",
          "model_name": "FloatProgressModel",
          "model_module_version": "1.5.0",
          "state": {
            "_dom_classes": [],
            "_model_module": "@jupyter-widgets/controls",
            "_model_module_version": "1.5.0",
            "_model_name": "FloatProgressModel",
            "_view_count": null,
            "_view_module": "@jupyter-widgets/controls",
            "_view_module_version": "1.5.0",
            "_view_name": "ProgressView",
            "bar_style": "success",
            "description": "",
            "description_tooltip": null,
            "layout": "IPY_MODEL_c65ff2a467e54de0a1cdc6fb6c1379a9",
            "max": 89843225,
            "min": 0,
            "orientation": "horizontal",
            "style": "IPY_MODEL_8733f7e054c74a1fa8fd123210392def",
            "value": 89843225
          }
        },
        "95815c9411864fdd9bec0ceb689621bb": {
          "model_module": "@jupyter-widgets/controls",
          "model_name": "HTMLModel",
          "model_module_version": "1.5.0",
          "state": {
            "_dom_classes": [],
            "_model_module": "@jupyter-widgets/controls",
            "_model_module_version": "1.5.0",
            "_model_name": "HTMLModel",
            "_view_count": null,
            "_view_module": "@jupyter-widgets/controls",
            "_view_module_version": "1.5.0",
            "_view_name": "HTMLView",
            "description": "",
            "description_tooltip": null,
            "layout": "IPY_MODEL_40733ece52f14523a9a98720ad329054",
            "placeholder": "​",
            "style": "IPY_MODEL_008d0b34313b44358db5f3cefe5d4eb3",
            "value": " 85.7M/85.7M [00:03&lt;00:00, 26.9MB/s]"
          }
        },
        "e49a8a6befec45c9ac941b7777ac8f9b": {
          "model_module": "@jupyter-widgets/base",
          "model_name": "LayoutModel",
          "model_module_version": "1.2.0",
          "state": {
            "_model_module": "@jupyter-widgets/base",
            "_model_module_version": "1.2.0",
            "_model_name": "LayoutModel",
            "_view_count": null,
            "_view_module": "@jupyter-widgets/base",
            "_view_module_version": "1.2.0",
            "_view_name": "LayoutView",
            "align_content": null,
            "align_items": null,
            "align_self": null,
            "border": null,
            "bottom": null,
            "display": null,
            "flex": null,
            "flex_flow": null,
            "grid_area": null,
            "grid_auto_columns": null,
            "grid_auto_flow": null,
            "grid_auto_rows": null,
            "grid_column": null,
            "grid_gap": null,
            "grid_row": null,
            "grid_template_areas": null,
            "grid_template_columns": null,
            "grid_template_rows": null,
            "height": null,
            "justify_content": null,
            "justify_items": null,
            "left": null,
            "margin": null,
            "max_height": null,
            "max_width": null,
            "min_height": null,
            "min_width": null,
            "object_fit": null,
            "object_position": null,
            "order": null,
            "overflow": null,
            "overflow_x": null,
            "overflow_y": null,
            "padding": null,
            "right": null,
            "top": null,
            "visibility": null,
            "width": null
          }
        },
        "a5bc4313ab674a438c14c854426ff4e8": {
          "model_module": "@jupyter-widgets/base",
          "model_name": "LayoutModel",
          "model_module_version": "1.2.0",
          "state": {
            "_model_module": "@jupyter-widgets/base",
            "_model_module_version": "1.2.0",
            "_model_name": "LayoutModel",
            "_view_count": null,
            "_view_module": "@jupyter-widgets/base",
            "_view_module_version": "1.2.0",
            "_view_name": "LayoutView",
            "align_content": null,
            "align_items": null,
            "align_self": null,
            "border": null,
            "bottom": null,
            "display": null,
            "flex": null,
            "flex_flow": null,
            "grid_area": null,
            "grid_auto_columns": null,
            "grid_auto_flow": null,
            "grid_auto_rows": null,
            "grid_column": null,
            "grid_gap": null,
            "grid_row": null,
            "grid_template_areas": null,
            "grid_template_columns": null,
            "grid_template_rows": null,
            "height": null,
            "justify_content": null,
            "justify_items": null,
            "left": null,
            "margin": null,
            "max_height": null,
            "max_width": null,
            "min_height": null,
            "min_width": null,
            "object_fit": null,
            "object_position": null,
            "order": null,
            "overflow": null,
            "overflow_x": null,
            "overflow_y": null,
            "padding": null,
            "right": null,
            "top": null,
            "visibility": null,
            "width": null
          }
        },
        "d55b02e94ff8454289ce12821a0adca4": {
          "model_module": "@jupyter-widgets/controls",
          "model_name": "DescriptionStyleModel",
          "model_module_version": "1.5.0",
          "state": {
            "_model_module": "@jupyter-widgets/controls",
            "_model_module_version": "1.5.0",
            "_model_name": "DescriptionStyleModel",
            "_view_count": null,
            "_view_module": "@jupyter-widgets/base",
            "_view_module_version": "1.2.0",
            "_view_name": "StyleView",
            "description_width": ""
          }
        },
        "c65ff2a467e54de0a1cdc6fb6c1379a9": {
          "model_module": "@jupyter-widgets/base",
          "model_name": "LayoutModel",
          "model_module_version": "1.2.0",
          "state": {
            "_model_module": "@jupyter-widgets/base",
            "_model_module_version": "1.2.0",
            "_model_name": "LayoutModel",
            "_view_count": null,
            "_view_module": "@jupyter-widgets/base",
            "_view_module_version": "1.2.0",
            "_view_name": "LayoutView",
            "align_content": null,
            "align_items": null,
            "align_self": null,
            "border": null,
            "bottom": null,
            "display": null,
            "flex": null,
            "flex_flow": null,
            "grid_area": null,
            "grid_auto_columns": null,
            "grid_auto_flow": null,
            "grid_auto_rows": null,
            "grid_column": null,
            "grid_gap": null,
            "grid_row": null,
            "grid_template_areas": null,
            "grid_template_columns": null,
            "grid_template_rows": null,
            "height": null,
            "justify_content": null,
            "justify_items": null,
            "left": null,
            "margin": null,
            "max_height": null,
            "max_width": null,
            "min_height": null,
            "min_width": null,
            "object_fit": null,
            "object_position": null,
            "order": null,
            "overflow": null,
            "overflow_x": null,
            "overflow_y": null,
            "padding": null,
            "right": null,
            "top": null,
            "visibility": null,
            "width": null
          }
        },
        "8733f7e054c74a1fa8fd123210392def": {
          "model_module": "@jupyter-widgets/controls",
          "model_name": "ProgressStyleModel",
          "model_module_version": "1.5.0",
          "state": {
            "_model_module": "@jupyter-widgets/controls",
            "_model_module_version": "1.5.0",
            "_model_name": "ProgressStyleModel",
            "_view_count": null,
            "_view_module": "@jupyter-widgets/base",
            "_view_module_version": "1.2.0",
            "_view_name": "StyleView",
            "bar_color": null,
            "description_width": ""
          }
        },
        "40733ece52f14523a9a98720ad329054": {
          "model_module": "@jupyter-widgets/base",
          "model_name": "LayoutModel",
          "model_module_version": "1.2.0",
          "state": {
            "_model_module": "@jupyter-widgets/base",
            "_model_module_version": "1.2.0",
            "_model_name": "LayoutModel",
            "_view_count": null,
            "_view_module": "@jupyter-widgets/base",
            "_view_module_version": "1.2.0",
            "_view_name": "LayoutView",
            "align_content": null,
            "align_items": null,
            "align_self": null,
            "border": null,
            "bottom": null,
            "display": null,
            "flex": null,
            "flex_flow": null,
            "grid_area": null,
            "grid_auto_columns": null,
            "grid_auto_flow": null,
            "grid_auto_rows": null,
            "grid_column": null,
            "grid_gap": null,
            "grid_row": null,
            "grid_template_areas": null,
            "grid_template_columns": null,
            "grid_template_rows": null,
            "height": null,
            "justify_content": null,
            "justify_items": null,
            "left": null,
            "margin": null,
            "max_height": null,
            "max_width": null,
            "min_height": null,
            "min_width": null,
            "object_fit": null,
            "object_position": null,
            "order": null,
            "overflow": null,
            "overflow_x": null,
            "overflow_y": null,
            "padding": null,
            "right": null,
            "top": null,
            "visibility": null,
            "width": null
          }
        },
        "008d0b34313b44358db5f3cefe5d4eb3": {
          "model_module": "@jupyter-widgets/controls",
          "model_name": "DescriptionStyleModel",
          "model_module_version": "1.5.0",
          "state": {
            "_model_module": "@jupyter-widgets/controls",
            "_model_module_version": "1.5.0",
            "_model_name": "DescriptionStyleModel",
            "_view_count": null,
            "_view_module": "@jupyter-widgets/base",
            "_view_module_version": "1.2.0",
            "_view_name": "StyleView",
            "description_width": ""
          }
        },
        "a4297513bab442a7a2c09b4128b873bf": {
          "model_module": "@jupyter-widgets/controls",
          "model_name": "HBoxModel",
          "model_module_version": "1.5.0",
          "state": {
            "_dom_classes": [],
            "_model_module": "@jupyter-widgets/controls",
            "_model_module_version": "1.5.0",
            "_model_name": "HBoxModel",
            "_view_count": null,
            "_view_module": "@jupyter-widgets/controls",
            "_view_module_version": "1.5.0",
            "_view_name": "HBoxView",
            "box_style": "",
            "children": [
              "IPY_MODEL_6313102b90e045689b7159397927b3b3",
              "IPY_MODEL_cd3338f8dfef40558e1988adc6c48397",
              "IPY_MODEL_c4aac448fb4646c2b7bd60098bf9617c"
            ],
            "layout": "IPY_MODEL_99902cdc8edf43c3b5b1e6925ac7515a"
          }
        },
        "6313102b90e045689b7159397927b3b3": {
          "model_module": "@jupyter-widgets/controls",
          "model_name": "HTMLModel",
          "model_module_version": "1.5.0",
          "state": {
            "_dom_classes": [],
            "_model_module": "@jupyter-widgets/controls",
            "_model_module_version": "1.5.0",
            "_model_name": "HTMLModel",
            "_view_count": null,
            "_view_module": "@jupyter-widgets/controls",
            "_view_module_version": "1.5.0",
            "_view_name": "HTMLView",
            "description": "",
            "description_tooltip": null,
            "layout": "IPY_MODEL_5ac8d2631bef426d918e7eaef4136f82",
            "placeholder": "​",
            "style": "IPY_MODEL_de4e396411a44448aa20f3fbdb7d22e2",
            "value": "100%"
          }
        },
        "cd3338f8dfef40558e1988adc6c48397": {
          "model_module": "@jupyter-widgets/controls",
          "model_name": "FloatProgressModel",
          "model_module_version": "1.5.0",
          "state": {
            "_dom_classes": [],
            "_model_module": "@jupyter-widgets/controls",
            "_model_module_version": "1.5.0",
            "_model_name": "FloatProgressModel",
            "_view_count": null,
            "_view_module": "@jupyter-widgets/controls",
            "_view_module_version": "1.5.0",
            "_view_name": "ProgressView",
            "bar_style": "success",
            "description": "",
            "description_tooltip": null,
            "layout": "IPY_MODEL_42583bbe54e3413ba7ad887cb116827a",
            "max": 96316515,
            "min": 0,
            "orientation": "horizontal",
            "style": "IPY_MODEL_90a3c370714448dc891dd8875fa22339",
            "value": 96316515
          }
        },
        "c4aac448fb4646c2b7bd60098bf9617c": {
          "model_module": "@jupyter-widgets/controls",
          "model_name": "HTMLModel",
          "model_module_version": "1.5.0",
          "state": {
            "_dom_classes": [],
            "_model_module": "@jupyter-widgets/controls",
            "_model_module_version": "1.5.0",
            "_model_name": "HTMLModel",
            "_view_count": null,
            "_view_module": "@jupyter-widgets/controls",
            "_view_module_version": "1.5.0",
            "_view_name": "HTMLView",
            "description": "",
            "description_tooltip": null,
            "layout": "IPY_MODEL_f68a0fda3a9542a7a2f101bf78e595e6",
            "placeholder": "​",
            "style": "IPY_MODEL_105967a335a34be18df233cb0b047ad2",
            "value": " 91.9M/91.9M [00:04&lt;00:00, 22.2MB/s]"
          }
        },
        "99902cdc8edf43c3b5b1e6925ac7515a": {
          "model_module": "@jupyter-widgets/base",
          "model_name": "LayoutModel",
          "model_module_version": "1.2.0",
          "state": {
            "_model_module": "@jupyter-widgets/base",
            "_model_module_version": "1.2.0",
            "_model_name": "LayoutModel",
            "_view_count": null,
            "_view_module": "@jupyter-widgets/base",
            "_view_module_version": "1.2.0",
            "_view_name": "LayoutView",
            "align_content": null,
            "align_items": null,
            "align_self": null,
            "border": null,
            "bottom": null,
            "display": null,
            "flex": null,
            "flex_flow": null,
            "grid_area": null,
            "grid_auto_columns": null,
            "grid_auto_flow": null,
            "grid_auto_rows": null,
            "grid_column": null,
            "grid_gap": null,
            "grid_row": null,
            "grid_template_areas": null,
            "grid_template_columns": null,
            "grid_template_rows": null,
            "height": null,
            "justify_content": null,
            "justify_items": null,
            "left": null,
            "margin": null,
            "max_height": null,
            "max_width": null,
            "min_height": null,
            "min_width": null,
            "object_fit": null,
            "object_position": null,
            "order": null,
            "overflow": null,
            "overflow_x": null,
            "overflow_y": null,
            "padding": null,
            "right": null,
            "top": null,
            "visibility": null,
            "width": null
          }
        },
        "5ac8d2631bef426d918e7eaef4136f82": {
          "model_module": "@jupyter-widgets/base",
          "model_name": "LayoutModel",
          "model_module_version": "1.2.0",
          "state": {
            "_model_module": "@jupyter-widgets/base",
            "_model_module_version": "1.2.0",
            "_model_name": "LayoutModel",
            "_view_count": null,
            "_view_module": "@jupyter-widgets/base",
            "_view_module_version": "1.2.0",
            "_view_name": "LayoutView",
            "align_content": null,
            "align_items": null,
            "align_self": null,
            "border": null,
            "bottom": null,
            "display": null,
            "flex": null,
            "flex_flow": null,
            "grid_area": null,
            "grid_auto_columns": null,
            "grid_auto_flow": null,
            "grid_auto_rows": null,
            "grid_column": null,
            "grid_gap": null,
            "grid_row": null,
            "grid_template_areas": null,
            "grid_template_columns": null,
            "grid_template_rows": null,
            "height": null,
            "justify_content": null,
            "justify_items": null,
            "left": null,
            "margin": null,
            "max_height": null,
            "max_width": null,
            "min_height": null,
            "min_width": null,
            "object_fit": null,
            "object_position": null,
            "order": null,
            "overflow": null,
            "overflow_x": null,
            "overflow_y": null,
            "padding": null,
            "right": null,
            "top": null,
            "visibility": null,
            "width": null
          }
        },
        "de4e396411a44448aa20f3fbdb7d22e2": {
          "model_module": "@jupyter-widgets/controls",
          "model_name": "DescriptionStyleModel",
          "model_module_version": "1.5.0",
          "state": {
            "_model_module": "@jupyter-widgets/controls",
            "_model_module_version": "1.5.0",
            "_model_name": "DescriptionStyleModel",
            "_view_count": null,
            "_view_module": "@jupyter-widgets/base",
            "_view_module_version": "1.2.0",
            "_view_name": "StyleView",
            "description_width": ""
          }
        },
        "42583bbe54e3413ba7ad887cb116827a": {
          "model_module": "@jupyter-widgets/base",
          "model_name": "LayoutModel",
          "model_module_version": "1.2.0",
          "state": {
            "_model_module": "@jupyter-widgets/base",
            "_model_module_version": "1.2.0",
            "_model_name": "LayoutModel",
            "_view_count": null,
            "_view_module": "@jupyter-widgets/base",
            "_view_module_version": "1.2.0",
            "_view_name": "LayoutView",
            "align_content": null,
            "align_items": null,
            "align_self": null,
            "border": null,
            "bottom": null,
            "display": null,
            "flex": null,
            "flex_flow": null,
            "grid_area": null,
            "grid_auto_columns": null,
            "grid_auto_flow": null,
            "grid_auto_rows": null,
            "grid_column": null,
            "grid_gap": null,
            "grid_row": null,
            "grid_template_areas": null,
            "grid_template_columns": null,
            "grid_template_rows": null,
            "height": null,
            "justify_content": null,
            "justify_items": null,
            "left": null,
            "margin": null,
            "max_height": null,
            "max_width": null,
            "min_height": null,
            "min_width": null,
            "object_fit": null,
            "object_position": null,
            "order": null,
            "overflow": null,
            "overflow_x": null,
            "overflow_y": null,
            "padding": null,
            "right": null,
            "top": null,
            "visibility": null,
            "width": null
          }
        },
        "90a3c370714448dc891dd8875fa22339": {
          "model_module": "@jupyter-widgets/controls",
          "model_name": "ProgressStyleModel",
          "model_module_version": "1.5.0",
          "state": {
            "_model_module": "@jupyter-widgets/controls",
            "_model_module_version": "1.5.0",
            "_model_name": "ProgressStyleModel",
            "_view_count": null,
            "_view_module": "@jupyter-widgets/base",
            "_view_module_version": "1.2.0",
            "_view_name": "StyleView",
            "bar_color": null,
            "description_width": ""
          }
        },
        "f68a0fda3a9542a7a2f101bf78e595e6": {
          "model_module": "@jupyter-widgets/base",
          "model_name": "LayoutModel",
          "model_module_version": "1.2.0",
          "state": {
            "_model_module": "@jupyter-widgets/base",
            "_model_module_version": "1.2.0",
            "_model_name": "LayoutModel",
            "_view_count": null,
            "_view_module": "@jupyter-widgets/base",
            "_view_module_version": "1.2.0",
            "_view_name": "LayoutView",
            "align_content": null,
            "align_items": null,
            "align_self": null,
            "border": null,
            "bottom": null,
            "display": null,
            "flex": null,
            "flex_flow": null,
            "grid_area": null,
            "grid_auto_columns": null,
            "grid_auto_flow": null,
            "grid_auto_rows": null,
            "grid_column": null,
            "grid_gap": null,
            "grid_row": null,
            "grid_template_areas": null,
            "grid_template_columns": null,
            "grid_template_rows": null,
            "height": null,
            "justify_content": null,
            "justify_items": null,
            "left": null,
            "margin": null,
            "max_height": null,
            "max_width": null,
            "min_height": null,
            "min_width": null,
            "object_fit": null,
            "object_position": null,
            "order": null,
            "overflow": null,
            "overflow_x": null,
            "overflow_y": null,
            "padding": null,
            "right": null,
            "top": null,
            "visibility": null,
            "width": null
          }
        },
        "105967a335a34be18df233cb0b047ad2": {
          "model_module": "@jupyter-widgets/controls",
          "model_name": "DescriptionStyleModel",
          "model_module_version": "1.5.0",
          "state": {
            "_model_module": "@jupyter-widgets/controls",
            "_model_module_version": "1.5.0",
            "_model_name": "DescriptionStyleModel",
            "_view_count": null,
            "_view_module": "@jupyter-widgets/base",
            "_view_module_version": "1.2.0",
            "_view_name": "StyleView",
            "description_width": ""
          }
        },
        "5fb1f10907e041b18caeb0b23de9ead1": {
          "model_module": "@jupyter-widgets/controls",
          "model_name": "HBoxModel",
          "model_module_version": "1.5.0",
          "state": {
            "_dom_classes": [],
            "_model_module": "@jupyter-widgets/controls",
            "_model_module_version": "1.5.0",
            "_model_name": "HBoxModel",
            "_view_count": null,
            "_view_module": "@jupyter-widgets/controls",
            "_view_module_version": "1.5.0",
            "_view_name": "HBoxView",
            "box_style": "",
            "children": [
              "IPY_MODEL_eb3a78df6dd14e719e1ee3836f7bbe0c",
              "IPY_MODEL_a51e8fb454af493b83ccb92b7be01e28",
              "IPY_MODEL_54310dab3cd94701afddf5f124751338"
            ],
            "layout": "IPY_MODEL_ea13bb766c1c482b9f8de60f9a756e2f"
          }
        },
        "eb3a78df6dd14e719e1ee3836f7bbe0c": {
          "model_module": "@jupyter-widgets/controls",
          "model_name": "HTMLModel",
          "model_module_version": "1.5.0",
          "state": {
            "_dom_classes": [],
            "_model_module": "@jupyter-widgets/controls",
            "_model_module_version": "1.5.0",
            "_model_name": "HTMLModel",
            "_view_count": null,
            "_view_module": "@jupyter-widgets/controls",
            "_view_module_version": "1.5.0",
            "_view_name": "HTMLView",
            "description": "",
            "description_tooltip": null,
            "layout": "IPY_MODEL_da52dafcd0bb41019c3a2677d0f92211",
            "placeholder": "​",
            "style": "IPY_MODEL_174d3d49a00c486cb56cedc2c63cf785",
            "value": "100%"
          }
        },
        "a51e8fb454af493b83ccb92b7be01e28": {
          "model_module": "@jupyter-widgets/controls",
          "model_name": "FloatProgressModel",
          "model_module_version": "1.5.0",
          "state": {
            "_dom_classes": [],
            "_model_module": "@jupyter-widgets/controls",
            "_model_module_version": "1.5.0",
            "_model_name": "FloatProgressModel",
            "_view_count": null,
            "_view_module": "@jupyter-widgets/controls",
            "_view_module_version": "1.5.0",
            "_view_name": "ProgressView",
            "bar_style": "success",
            "description": "",
            "description_tooltip": null,
            "layout": "IPY_MODEL_62cee4c42b6b4b69a9b8cc3e01aec612",
            "max": 235314250,
            "min": 0,
            "orientation": "horizontal",
            "style": "IPY_MODEL_66e01e83c648442dbaa631937318f411",
            "value": 235314250
          }
        },
        "54310dab3cd94701afddf5f124751338": {
          "model_module": "@jupyter-widgets/controls",
          "model_name": "HTMLModel",
          "model_module_version": "1.5.0",
          "state": {
            "_dom_classes": [],
            "_model_module": "@jupyter-widgets/controls",
            "_model_module_version": "1.5.0",
            "_model_name": "HTMLModel",
            "_view_count": null,
            "_view_module": "@jupyter-widgets/controls",
            "_view_module_version": "1.5.0",
            "_view_name": "HTMLView",
            "description": "",
            "description_tooltip": null,
            "layout": "IPY_MODEL_2847fb3533c045d2b25635e6e7caee1d",
            "placeholder": "​",
            "style": "IPY_MODEL_606e27d9b9d145c2b59f0047b2babbf5",
            "value": " 224M/224M [00:11&lt;00:00, 20.5MB/s]"
          }
        },
        "ea13bb766c1c482b9f8de60f9a756e2f": {
          "model_module": "@jupyter-widgets/base",
          "model_name": "LayoutModel",
          "model_module_version": "1.2.0",
          "state": {
            "_model_module": "@jupyter-widgets/base",
            "_model_module_version": "1.2.0",
            "_model_name": "LayoutModel",
            "_view_count": null,
            "_view_module": "@jupyter-widgets/base",
            "_view_module_version": "1.2.0",
            "_view_name": "LayoutView",
            "align_content": null,
            "align_items": null,
            "align_self": null,
            "border": null,
            "bottom": null,
            "display": null,
            "flex": null,
            "flex_flow": null,
            "grid_area": null,
            "grid_auto_columns": null,
            "grid_auto_flow": null,
            "grid_auto_rows": null,
            "grid_column": null,
            "grid_gap": null,
            "grid_row": null,
            "grid_template_areas": null,
            "grid_template_columns": null,
            "grid_template_rows": null,
            "height": null,
            "justify_content": null,
            "justify_items": null,
            "left": null,
            "margin": null,
            "max_height": null,
            "max_width": null,
            "min_height": null,
            "min_width": null,
            "object_fit": null,
            "object_position": null,
            "order": null,
            "overflow": null,
            "overflow_x": null,
            "overflow_y": null,
            "padding": null,
            "right": null,
            "top": null,
            "visibility": null,
            "width": null
          }
        },
        "da52dafcd0bb41019c3a2677d0f92211": {
          "model_module": "@jupyter-widgets/base",
          "model_name": "LayoutModel",
          "model_module_version": "1.2.0",
          "state": {
            "_model_module": "@jupyter-widgets/base",
            "_model_module_version": "1.2.0",
            "_model_name": "LayoutModel",
            "_view_count": null,
            "_view_module": "@jupyter-widgets/base",
            "_view_module_version": "1.2.0",
            "_view_name": "LayoutView",
            "align_content": null,
            "align_items": null,
            "align_self": null,
            "border": null,
            "bottom": null,
            "display": null,
            "flex": null,
            "flex_flow": null,
            "grid_area": null,
            "grid_auto_columns": null,
            "grid_auto_flow": null,
            "grid_auto_rows": null,
            "grid_column": null,
            "grid_gap": null,
            "grid_row": null,
            "grid_template_areas": null,
            "grid_template_columns": null,
            "grid_template_rows": null,
            "height": null,
            "justify_content": null,
            "justify_items": null,
            "left": null,
            "margin": null,
            "max_height": null,
            "max_width": null,
            "min_height": null,
            "min_width": null,
            "object_fit": null,
            "object_position": null,
            "order": null,
            "overflow": null,
            "overflow_x": null,
            "overflow_y": null,
            "padding": null,
            "right": null,
            "top": null,
            "visibility": null,
            "width": null
          }
        },
        "174d3d49a00c486cb56cedc2c63cf785": {
          "model_module": "@jupyter-widgets/controls",
          "model_name": "DescriptionStyleModel",
          "model_module_version": "1.5.0",
          "state": {
            "_model_module": "@jupyter-widgets/controls",
            "_model_module_version": "1.5.0",
            "_model_name": "DescriptionStyleModel",
            "_view_count": null,
            "_view_module": "@jupyter-widgets/base",
            "_view_module_version": "1.2.0",
            "_view_name": "StyleView",
            "description_width": ""
          }
        },
        "62cee4c42b6b4b69a9b8cc3e01aec612": {
          "model_module": "@jupyter-widgets/base",
          "model_name": "LayoutModel",
          "model_module_version": "1.2.0",
          "state": {
            "_model_module": "@jupyter-widgets/base",
            "_model_module_version": "1.2.0",
            "_model_name": "LayoutModel",
            "_view_count": null,
            "_view_module": "@jupyter-widgets/base",
            "_view_module_version": "1.2.0",
            "_view_name": "LayoutView",
            "align_content": null,
            "align_items": null,
            "align_self": null,
            "border": null,
            "bottom": null,
            "display": null,
            "flex": null,
            "flex_flow": null,
            "grid_area": null,
            "grid_auto_columns": null,
            "grid_auto_flow": null,
            "grid_auto_rows": null,
            "grid_column": null,
            "grid_gap": null,
            "grid_row": null,
            "grid_template_areas": null,
            "grid_template_columns": null,
            "grid_template_rows": null,
            "height": null,
            "justify_content": null,
            "justify_items": null,
            "left": null,
            "margin": null,
            "max_height": null,
            "max_width": null,
            "min_height": null,
            "min_width": null,
            "object_fit": null,
            "object_position": null,
            "order": null,
            "overflow": null,
            "overflow_x": null,
            "overflow_y": null,
            "padding": null,
            "right": null,
            "top": null,
            "visibility": null,
            "width": null
          }
        },
        "66e01e83c648442dbaa631937318f411": {
          "model_module": "@jupyter-widgets/controls",
          "model_name": "ProgressStyleModel",
          "model_module_version": "1.5.0",
          "state": {
            "_model_module": "@jupyter-widgets/controls",
            "_model_module_version": "1.5.0",
            "_model_name": "ProgressStyleModel",
            "_view_count": null,
            "_view_module": "@jupyter-widgets/base",
            "_view_module_version": "1.2.0",
            "_view_name": "StyleView",
            "bar_color": null,
            "description_width": ""
          }
        },
        "2847fb3533c045d2b25635e6e7caee1d": {
          "model_module": "@jupyter-widgets/base",
          "model_name": "LayoutModel",
          "model_module_version": "1.2.0",
          "state": {
            "_model_module": "@jupyter-widgets/base",
            "_model_module_version": "1.2.0",
            "_model_name": "LayoutModel",
            "_view_count": null,
            "_view_module": "@jupyter-widgets/base",
            "_view_module_version": "1.2.0",
            "_view_name": "LayoutView",
            "align_content": null,
            "align_items": null,
            "align_self": null,
            "border": null,
            "bottom": null,
            "display": null,
            "flex": null,
            "flex_flow": null,
            "grid_area": null,
            "grid_auto_columns": null,
            "grid_auto_flow": null,
            "grid_auto_rows": null,
            "grid_column": null,
            "grid_gap": null,
            "grid_row": null,
            "grid_template_areas": null,
            "grid_template_columns": null,
            "grid_template_rows": null,
            "height": null,
            "justify_content": null,
            "justify_items": null,
            "left": null,
            "margin": null,
            "max_height": null,
            "max_width": null,
            "min_height": null,
            "min_width": null,
            "object_fit": null,
            "object_position": null,
            "order": null,
            "overflow": null,
            "overflow_x": null,
            "overflow_y": null,
            "padding": null,
            "right": null,
            "top": null,
            "visibility": null,
            "width": null
          }
        },
        "606e27d9b9d145c2b59f0047b2babbf5": {
          "model_module": "@jupyter-widgets/controls",
          "model_name": "DescriptionStyleModel",
          "model_module_version": "1.5.0",
          "state": {
            "_model_module": "@jupyter-widgets/controls",
            "_model_module_version": "1.5.0",
            "_model_name": "DescriptionStyleModel",
            "_view_count": null,
            "_view_module": "@jupyter-widgets/base",
            "_view_module_version": "1.2.0",
            "_view_name": "StyleView",
            "description_width": ""
          }
        },
        "24e7f7e293ab4ac6afce3b38042e0e8c": {
          "model_module": "@jupyter-widgets/controls",
          "model_name": "HBoxModel",
          "model_module_version": "1.5.0",
          "state": {
            "_dom_classes": [],
            "_model_module": "@jupyter-widgets/controls",
            "_model_module_version": "1.5.0",
            "_model_name": "HBoxModel",
            "_view_count": null,
            "_view_module": "@jupyter-widgets/controls",
            "_view_module_version": "1.5.0",
            "_view_name": "HBoxView",
            "box_style": "",
            "children": [
              "IPY_MODEL_498d1500ab404930af26f7aa4936bed7",
              "IPY_MODEL_2c9087e9766c4aa4832ad040cd6f63fa",
              "IPY_MODEL_3374600c3c6f4000819ae3c1dbc4e886"
            ],
            "layout": "IPY_MODEL_b1104798f677452297da5e889082660c"
          }
        },
        "498d1500ab404930af26f7aa4936bed7": {
          "model_module": "@jupyter-widgets/controls",
          "model_name": "HTMLModel",
          "model_module_version": "1.5.0",
          "state": {
            "_dom_classes": [],
            "_model_module": "@jupyter-widgets/controls",
            "_model_module_version": "1.5.0",
            "_model_name": "HTMLModel",
            "_view_count": null,
            "_view_module": "@jupyter-widgets/controls",
            "_view_module_version": "1.5.0",
            "_view_name": "HTMLView",
            "description": "",
            "description_tooltip": null,
            "layout": "IPY_MODEL_d48b9c8efeb5493fa7cfddbac714f562",
            "placeholder": "​",
            "style": "IPY_MODEL_b323a216bfa5423795ae11921f0cf635",
            "value": "Downloading: 100%"
          }
        },
        "2c9087e9766c4aa4832ad040cd6f63fa": {
          "model_module": "@jupyter-widgets/controls",
          "model_name": "FloatProgressModel",
          "model_module_version": "1.5.0",
          "state": {
            "_dom_classes": [],
            "_model_module": "@jupyter-widgets/controls",
            "_model_module_version": "1.5.0",
            "_model_name": "FloatProgressModel",
            "_view_count": null,
            "_view_module": "@jupyter-widgets/controls",
            "_view_module_version": "1.5.0",
            "_view_name": "ProgressView",
            "bar_style": "success",
            "description": "",
            "description_tooltip": null,
            "layout": "IPY_MODEL_541989caba7e4116a2cd80c87adaf85f",
            "max": 2825034,
            "min": 0,
            "orientation": "horizontal",
            "style": "IPY_MODEL_3620e34083ce41de90aa7211c608ba62",
            "value": 2825034
          }
        },
        "3374600c3c6f4000819ae3c1dbc4e886": {
          "model_module": "@jupyter-widgets/controls",
          "model_name": "HTMLModel",
          "model_module_version": "1.5.0",
          "state": {
            "_dom_classes": [],
            "_model_module": "@jupyter-widgets/controls",
            "_model_module_version": "1.5.0",
            "_model_name": "HTMLModel",
            "_view_count": null,
            "_view_module": "@jupyter-widgets/controls",
            "_view_module_version": "1.5.0",
            "_view_name": "HTMLView",
            "description": "",
            "description_tooltip": null,
            "layout": "IPY_MODEL_d17d794b996e4177b0d4d9da65a02de3",
            "placeholder": "​",
            "style": "IPY_MODEL_24992aafdfd148429ae7bd27a8fcf5fb",
            "value": " 2.69M/2.69M [00:00&lt;00:00, 11.1MB/s]"
          }
        },
        "b1104798f677452297da5e889082660c": {
          "model_module": "@jupyter-widgets/base",
          "model_name": "LayoutModel",
          "model_module_version": "1.2.0",
          "state": {
            "_model_module": "@jupyter-widgets/base",
            "_model_module_version": "1.2.0",
            "_model_name": "LayoutModel",
            "_view_count": null,
            "_view_module": "@jupyter-widgets/base",
            "_view_module_version": "1.2.0",
            "_view_name": "LayoutView",
            "align_content": null,
            "align_items": null,
            "align_self": null,
            "border": null,
            "bottom": null,
            "display": null,
            "flex": null,
            "flex_flow": null,
            "grid_area": null,
            "grid_auto_columns": null,
            "grid_auto_flow": null,
            "grid_auto_rows": null,
            "grid_column": null,
            "grid_gap": null,
            "grid_row": null,
            "grid_template_areas": null,
            "grid_template_columns": null,
            "grid_template_rows": null,
            "height": null,
            "justify_content": null,
            "justify_items": null,
            "left": null,
            "margin": null,
            "max_height": null,
            "max_width": null,
            "min_height": null,
            "min_width": null,
            "object_fit": null,
            "object_position": null,
            "order": null,
            "overflow": null,
            "overflow_x": null,
            "overflow_y": null,
            "padding": null,
            "right": null,
            "top": null,
            "visibility": null,
            "width": null
          }
        },
        "d48b9c8efeb5493fa7cfddbac714f562": {
          "model_module": "@jupyter-widgets/base",
          "model_name": "LayoutModel",
          "model_module_version": "1.2.0",
          "state": {
            "_model_module": "@jupyter-widgets/base",
            "_model_module_version": "1.2.0",
            "_model_name": "LayoutModel",
            "_view_count": null,
            "_view_module": "@jupyter-widgets/base",
            "_view_module_version": "1.2.0",
            "_view_name": "LayoutView",
            "align_content": null,
            "align_items": null,
            "align_self": null,
            "border": null,
            "bottom": null,
            "display": null,
            "flex": null,
            "flex_flow": null,
            "grid_area": null,
            "grid_auto_columns": null,
            "grid_auto_flow": null,
            "grid_auto_rows": null,
            "grid_column": null,
            "grid_gap": null,
            "grid_row": null,
            "grid_template_areas": null,
            "grid_template_columns": null,
            "grid_template_rows": null,
            "height": null,
            "justify_content": null,
            "justify_items": null,
            "left": null,
            "margin": null,
            "max_height": null,
            "max_width": null,
            "min_height": null,
            "min_width": null,
            "object_fit": null,
            "object_position": null,
            "order": null,
            "overflow": null,
            "overflow_x": null,
            "overflow_y": null,
            "padding": null,
            "right": null,
            "top": null,
            "visibility": null,
            "width": null
          }
        },
        "b323a216bfa5423795ae11921f0cf635": {
          "model_module": "@jupyter-widgets/controls",
          "model_name": "DescriptionStyleModel",
          "model_module_version": "1.5.0",
          "state": {
            "_model_module": "@jupyter-widgets/controls",
            "_model_module_version": "1.5.0",
            "_model_name": "DescriptionStyleModel",
            "_view_count": null,
            "_view_module": "@jupyter-widgets/base",
            "_view_module_version": "1.2.0",
            "_view_name": "StyleView",
            "description_width": ""
          }
        },
        "541989caba7e4116a2cd80c87adaf85f": {
          "model_module": "@jupyter-widgets/base",
          "model_name": "LayoutModel",
          "model_module_version": "1.2.0",
          "state": {
            "_model_module": "@jupyter-widgets/base",
            "_model_module_version": "1.2.0",
            "_model_name": "LayoutModel",
            "_view_count": null,
            "_view_module": "@jupyter-widgets/base",
            "_view_module_version": "1.2.0",
            "_view_name": "LayoutView",
            "align_content": null,
            "align_items": null,
            "align_self": null,
            "border": null,
            "bottom": null,
            "display": null,
            "flex": null,
            "flex_flow": null,
            "grid_area": null,
            "grid_auto_columns": null,
            "grid_auto_flow": null,
            "grid_auto_rows": null,
            "grid_column": null,
            "grid_gap": null,
            "grid_row": null,
            "grid_template_areas": null,
            "grid_template_columns": null,
            "grid_template_rows": null,
            "height": null,
            "justify_content": null,
            "justify_items": null,
            "left": null,
            "margin": null,
            "max_height": null,
            "max_width": null,
            "min_height": null,
            "min_width": null,
            "object_fit": null,
            "object_position": null,
            "order": null,
            "overflow": null,
            "overflow_x": null,
            "overflow_y": null,
            "padding": null,
            "right": null,
            "top": null,
            "visibility": null,
            "width": null
          }
        },
        "3620e34083ce41de90aa7211c608ba62": {
          "model_module": "@jupyter-widgets/controls",
          "model_name": "ProgressStyleModel",
          "model_module_version": "1.5.0",
          "state": {
            "_model_module": "@jupyter-widgets/controls",
            "_model_module_version": "1.5.0",
            "_model_name": "ProgressStyleModel",
            "_view_count": null,
            "_view_module": "@jupyter-widgets/base",
            "_view_module_version": "1.2.0",
            "_view_name": "StyleView",
            "bar_color": null,
            "description_width": ""
          }
        },
        "d17d794b996e4177b0d4d9da65a02de3": {
          "model_module": "@jupyter-widgets/base",
          "model_name": "LayoutModel",
          "model_module_version": "1.2.0",
          "state": {
            "_model_module": "@jupyter-widgets/base",
            "_model_module_version": "1.2.0",
            "_model_name": "LayoutModel",
            "_view_count": null,
            "_view_module": "@jupyter-widgets/base",
            "_view_module_version": "1.2.0",
            "_view_name": "LayoutView",
            "align_content": null,
            "align_items": null,
            "align_self": null,
            "border": null,
            "bottom": null,
            "display": null,
            "flex": null,
            "flex_flow": null,
            "grid_area": null,
            "grid_auto_columns": null,
            "grid_auto_flow": null,
            "grid_auto_rows": null,
            "grid_column": null,
            "grid_gap": null,
            "grid_row": null,
            "grid_template_areas": null,
            "grid_template_columns": null,
            "grid_template_rows": null,
            "height": null,
            "justify_content": null,
            "justify_items": null,
            "left": null,
            "margin": null,
            "max_height": null,
            "max_width": null,
            "min_height": null,
            "min_width": null,
            "object_fit": null,
            "object_position": null,
            "order": null,
            "overflow": null,
            "overflow_x": null,
            "overflow_y": null,
            "padding": null,
            "right": null,
            "top": null,
            "visibility": null,
            "width": null
          }
        },
        "24992aafdfd148429ae7bd27a8fcf5fb": {
          "model_module": "@jupyter-widgets/controls",
          "model_name": "DescriptionStyleModel",
          "model_module_version": "1.5.0",
          "state": {
            "_model_module": "@jupyter-widgets/controls",
            "_model_module_version": "1.5.0",
            "_model_name": "DescriptionStyleModel",
            "_view_count": null,
            "_view_module": "@jupyter-widgets/base",
            "_view_module_version": "1.2.0",
            "_view_name": "StyleView",
            "description_width": ""
          }
        },
        "42748b5e6ac6431b9e07eb0ce71b8b36": {
          "model_module": "@jupyter-widgets/controls",
          "model_name": "HBoxModel",
          "model_module_version": "1.5.0",
          "state": {
            "_dom_classes": [],
            "_model_module": "@jupyter-widgets/controls",
            "_model_module_version": "1.5.0",
            "_model_name": "HBoxModel",
            "_view_count": null,
            "_view_module": "@jupyter-widgets/controls",
            "_view_module_version": "1.5.0",
            "_view_name": "HBoxView",
            "box_style": "",
            "children": [
              "IPY_MODEL_5ee16bf2162e41af9dfc8fea6dbea369",
              "IPY_MODEL_f3bf71e774a640efbc27985b16f82a5b",
              "IPY_MODEL_548c1384f5474ebc8a9504e20a0ed7a9"
            ],
            "layout": "IPY_MODEL_6f44b9ec54414eb9b21cd0b4884addd8"
          }
        },
        "5ee16bf2162e41af9dfc8fea6dbea369": {
          "model_module": "@jupyter-widgets/controls",
          "model_name": "HTMLModel",
          "model_module_version": "1.5.0",
          "state": {
            "_dom_classes": [],
            "_model_module": "@jupyter-widgets/controls",
            "_model_module_version": "1.5.0",
            "_model_name": "HTMLModel",
            "_view_count": null,
            "_view_module": "@jupyter-widgets/controls",
            "_view_module_version": "1.5.0",
            "_view_name": "HTMLView",
            "description": "",
            "description_tooltip": null,
            "layout": "IPY_MODEL_85b4d74ab5d1444fa0d301caa8b39156",
            "placeholder": "​",
            "style": "IPY_MODEL_7891fdf808e44523842a1a990dcfa90e",
            "value": "Downloading: 100%"
          }
        },
        "f3bf71e774a640efbc27985b16f82a5b": {
          "model_module": "@jupyter-widgets/controls",
          "model_name": "FloatProgressModel",
          "model_module_version": "1.5.0",
          "state": {
            "_dom_classes": [],
            "_model_module": "@jupyter-widgets/controls",
            "_model_module_version": "1.5.0",
            "_model_name": "FloatProgressModel",
            "_view_count": null,
            "_view_module": "@jupyter-widgets/controls",
            "_view_module_version": "1.5.0",
            "_view_name": "ProgressView",
            "bar_style": "success",
            "description": "",
            "description_tooltip": null,
            "layout": "IPY_MODEL_8b05cd51200e41028c10cf6ba735d130",
            "max": 1000,
            "min": 0,
            "orientation": "horizontal",
            "style": "IPY_MODEL_a194488cec78413cb229525ace66139f",
            "value": 1000
          }
        },
        "548c1384f5474ebc8a9504e20a0ed7a9": {
          "model_module": "@jupyter-widgets/controls",
          "model_name": "HTMLModel",
          "model_module_version": "1.5.0",
          "state": {
            "_dom_classes": [],
            "_model_module": "@jupyter-widgets/controls",
            "_model_module_version": "1.5.0",
            "_model_name": "HTMLModel",
            "_view_count": null,
            "_view_module": "@jupyter-widgets/controls",
            "_view_module_version": "1.5.0",
            "_view_name": "HTMLView",
            "description": "",
            "description_tooltip": null,
            "layout": "IPY_MODEL_0bca6a64560d4ce985ade9f2e97d93cb",
            "placeholder": "​",
            "style": "IPY_MODEL_d13f2cd7c838489a9bf7772e14f81374",
            "value": " 0.98k/0.98k [00:00&lt;00:00, 25.3kB/s]"
          }
        },
        "6f44b9ec54414eb9b21cd0b4884addd8": {
          "model_module": "@jupyter-widgets/base",
          "model_name": "LayoutModel",
          "model_module_version": "1.2.0",
          "state": {
            "_model_module": "@jupyter-widgets/base",
            "_model_module_version": "1.2.0",
            "_model_name": "LayoutModel",
            "_view_count": null,
            "_view_module": "@jupyter-widgets/base",
            "_view_module_version": "1.2.0",
            "_view_name": "LayoutView",
            "align_content": null,
            "align_items": null,
            "align_self": null,
            "border": null,
            "bottom": null,
            "display": null,
            "flex": null,
            "flex_flow": null,
            "grid_area": null,
            "grid_auto_columns": null,
            "grid_auto_flow": null,
            "grid_auto_rows": null,
            "grid_column": null,
            "grid_gap": null,
            "grid_row": null,
            "grid_template_areas": null,
            "grid_template_columns": null,
            "grid_template_rows": null,
            "height": null,
            "justify_content": null,
            "justify_items": null,
            "left": null,
            "margin": null,
            "max_height": null,
            "max_width": null,
            "min_height": null,
            "min_width": null,
            "object_fit": null,
            "object_position": null,
            "order": null,
            "overflow": null,
            "overflow_x": null,
            "overflow_y": null,
            "padding": null,
            "right": null,
            "top": null,
            "visibility": null,
            "width": null
          }
        },
        "85b4d74ab5d1444fa0d301caa8b39156": {
          "model_module": "@jupyter-widgets/base",
          "model_name": "LayoutModel",
          "model_module_version": "1.2.0",
          "state": {
            "_model_module": "@jupyter-widgets/base",
            "_model_module_version": "1.2.0",
            "_model_name": "LayoutModel",
            "_view_count": null,
            "_view_module": "@jupyter-widgets/base",
            "_view_module_version": "1.2.0",
            "_view_name": "LayoutView",
            "align_content": null,
            "align_items": null,
            "align_self": null,
            "border": null,
            "bottom": null,
            "display": null,
            "flex": null,
            "flex_flow": null,
            "grid_area": null,
            "grid_auto_columns": null,
            "grid_auto_flow": null,
            "grid_auto_rows": null,
            "grid_column": null,
            "grid_gap": null,
            "grid_row": null,
            "grid_template_areas": null,
            "grid_template_columns": null,
            "grid_template_rows": null,
            "height": null,
            "justify_content": null,
            "justify_items": null,
            "left": null,
            "margin": null,
            "max_height": null,
            "max_width": null,
            "min_height": null,
            "min_width": null,
            "object_fit": null,
            "object_position": null,
            "order": null,
            "overflow": null,
            "overflow_x": null,
            "overflow_y": null,
            "padding": null,
            "right": null,
            "top": null,
            "visibility": null,
            "width": null
          }
        },
        "7891fdf808e44523842a1a990dcfa90e": {
          "model_module": "@jupyter-widgets/controls",
          "model_name": "DescriptionStyleModel",
          "model_module_version": "1.5.0",
          "state": {
            "_model_module": "@jupyter-widgets/controls",
            "_model_module_version": "1.5.0",
            "_model_name": "DescriptionStyleModel",
            "_view_count": null,
            "_view_module": "@jupyter-widgets/base",
            "_view_module_version": "1.2.0",
            "_view_name": "StyleView",
            "description_width": ""
          }
        },
        "8b05cd51200e41028c10cf6ba735d130": {
          "model_module": "@jupyter-widgets/base",
          "model_name": "LayoutModel",
          "model_module_version": "1.2.0",
          "state": {
            "_model_module": "@jupyter-widgets/base",
            "_model_module_version": "1.2.0",
            "_model_name": "LayoutModel",
            "_view_count": null,
            "_view_module": "@jupyter-widgets/base",
            "_view_module_version": "1.2.0",
            "_view_name": "LayoutView",
            "align_content": null,
            "align_items": null,
            "align_self": null,
            "border": null,
            "bottom": null,
            "display": null,
            "flex": null,
            "flex_flow": null,
            "grid_area": null,
            "grid_auto_columns": null,
            "grid_auto_flow": null,
            "grid_auto_rows": null,
            "grid_column": null,
            "grid_gap": null,
            "grid_row": null,
            "grid_template_areas": null,
            "grid_template_columns": null,
            "grid_template_rows": null,
            "height": null,
            "justify_content": null,
            "justify_items": null,
            "left": null,
            "margin": null,
            "max_height": null,
            "max_width": null,
            "min_height": null,
            "min_width": null,
            "object_fit": null,
            "object_position": null,
            "order": null,
            "overflow": null,
            "overflow_x": null,
            "overflow_y": null,
            "padding": null,
            "right": null,
            "top": null,
            "visibility": null,
            "width": null
          }
        },
        "a194488cec78413cb229525ace66139f": {
          "model_module": "@jupyter-widgets/controls",
          "model_name": "ProgressStyleModel",
          "model_module_version": "1.5.0",
          "state": {
            "_model_module": "@jupyter-widgets/controls",
            "_model_module_version": "1.5.0",
            "_model_name": "ProgressStyleModel",
            "_view_count": null,
            "_view_module": "@jupyter-widgets/base",
            "_view_module_version": "1.2.0",
            "_view_name": "StyleView",
            "bar_color": null,
            "description_width": ""
          }
        },
        "0bca6a64560d4ce985ade9f2e97d93cb": {
          "model_module": "@jupyter-widgets/base",
          "model_name": "LayoutModel",
          "model_module_version": "1.2.0",
          "state": {
            "_model_module": "@jupyter-widgets/base",
            "_model_module_version": "1.2.0",
            "_model_name": "LayoutModel",
            "_view_count": null,
            "_view_module": "@jupyter-widgets/base",
            "_view_module_version": "1.2.0",
            "_view_name": "LayoutView",
            "align_content": null,
            "align_items": null,
            "align_self": null,
            "border": null,
            "bottom": null,
            "display": null,
            "flex": null,
            "flex_flow": null,
            "grid_area": null,
            "grid_auto_columns": null,
            "grid_auto_flow": null,
            "grid_auto_rows": null,
            "grid_column": null,
            "grid_gap": null,
            "grid_row": null,
            "grid_template_areas": null,
            "grid_template_columns": null,
            "grid_template_rows": null,
            "height": null,
            "justify_content": null,
            "justify_items": null,
            "left": null,
            "margin": null,
            "max_height": null,
            "max_width": null,
            "min_height": null,
            "min_width": null,
            "object_fit": null,
            "object_position": null,
            "order": null,
            "overflow": null,
            "overflow_x": null,
            "overflow_y": null,
            "padding": null,
            "right": null,
            "top": null,
            "visibility": null,
            "width": null
          }
        },
        "d13f2cd7c838489a9bf7772e14f81374": {
          "model_module": "@jupyter-widgets/controls",
          "model_name": "DescriptionStyleModel",
          "model_module_version": "1.5.0",
          "state": {
            "_model_module": "@jupyter-widgets/controls",
            "_model_module_version": "1.5.0",
            "_model_name": "DescriptionStyleModel",
            "_view_count": null,
            "_view_module": "@jupyter-widgets/base",
            "_view_module_version": "1.2.0",
            "_view_name": "StyleView",
            "description_width": ""
          }
        },
        "f3deed5816974af99514818f07cc91a1": {
          "model_module": "@jupyter-widgets/controls",
          "model_name": "HBoxModel",
          "model_module_version": "1.5.0",
          "state": {
            "_dom_classes": [],
            "_model_module": "@jupyter-widgets/controls",
            "_model_module_version": "1.5.0",
            "_model_name": "HBoxModel",
            "_view_count": null,
            "_view_module": "@jupyter-widgets/controls",
            "_view_module_version": "1.5.0",
            "_view_name": "HBoxView",
            "box_style": "",
            "children": [
              "IPY_MODEL_1c91130fa63f4c19b4d30caa89baba16",
              "IPY_MODEL_1f6cbe7276ae4aa19a8d1f2300eb0f2f",
              "IPY_MODEL_0133e96e4da3407f8461ee18cc96ce94"
            ],
            "layout": "IPY_MODEL_047869da5f6846e09da28ae48f103544"
          }
        },
        "1c91130fa63f4c19b4d30caa89baba16": {
          "model_module": "@jupyter-widgets/controls",
          "model_name": "HTMLModel",
          "model_module_version": "1.5.0",
          "state": {
            "_dom_classes": [],
            "_model_module": "@jupyter-widgets/controls",
            "_model_module_version": "1.5.0",
            "_model_name": "HTMLModel",
            "_view_count": null,
            "_view_module": "@jupyter-widgets/controls",
            "_view_module_version": "1.5.0",
            "_view_name": "HTMLView",
            "description": "",
            "description_tooltip": null,
            "layout": "IPY_MODEL_2cfba50ee50c456ea04c0a5be2c991f8",
            "placeholder": "​",
            "style": "IPY_MODEL_396e884ccd1c4672b30b82a627de722a",
            "value": "Downloading: 100%"
          }
        },
        "1f6cbe7276ae4aa19a8d1f2300eb0f2f": {
          "model_module": "@jupyter-widgets/controls",
          "model_name": "FloatProgressModel",
          "model_module_version": "1.5.0",
          "state": {
            "_dom_classes": [],
            "_model_module": "@jupyter-widgets/controls",
            "_model_module_version": "1.5.0",
            "_model_name": "FloatProgressModel",
            "_view_count": null,
            "_view_module": "@jupyter-widgets/controls",
            "_view_module_version": "1.5.0",
            "_view_name": "ProgressView",
            "bar_style": "success",
            "description": "",
            "description_tooltip": null,
            "layout": "IPY_MODEL_c7ac373f4924478aad89adf1b23a9b7b",
            "max": 513302779,
            "min": 0,
            "orientation": "horizontal",
            "style": "IPY_MODEL_8a00cdefb9604fa79080a99fec3a99c1",
            "value": 513302779
          }
        },
        "0133e96e4da3407f8461ee18cc96ce94": {
          "model_module": "@jupyter-widgets/controls",
          "model_name": "HTMLModel",
          "model_module_version": "1.5.0",
          "state": {
            "_dom_classes": [],
            "_model_module": "@jupyter-widgets/controls",
            "_model_module_version": "1.5.0",
            "_model_name": "HTMLModel",
            "_view_count": null,
            "_view_module": "@jupyter-widgets/controls",
            "_view_module_version": "1.5.0",
            "_view_name": "HTMLView",
            "description": "",
            "description_tooltip": null,
            "layout": "IPY_MODEL_ba87b8a7b2bf464cb1a173ef789fc2fa",
            "placeholder": "​",
            "style": "IPY_MODEL_cfe201c5e5614e96b7f9dc8c785918ee",
            "value": " 490M/490M [00:21&lt;00:00, 18.9MB/s]"
          }
        },
        "047869da5f6846e09da28ae48f103544": {
          "model_module": "@jupyter-widgets/base",
          "model_name": "LayoutModel",
          "model_module_version": "1.2.0",
          "state": {
            "_model_module": "@jupyter-widgets/base",
            "_model_module_version": "1.2.0",
            "_model_name": "LayoutModel",
            "_view_count": null,
            "_view_module": "@jupyter-widgets/base",
            "_view_module_version": "1.2.0",
            "_view_name": "LayoutView",
            "align_content": null,
            "align_items": null,
            "align_self": null,
            "border": null,
            "bottom": null,
            "display": null,
            "flex": null,
            "flex_flow": null,
            "grid_area": null,
            "grid_auto_columns": null,
            "grid_auto_flow": null,
            "grid_auto_rows": null,
            "grid_column": null,
            "grid_gap": null,
            "grid_row": null,
            "grid_template_areas": null,
            "grid_template_columns": null,
            "grid_template_rows": null,
            "height": null,
            "justify_content": null,
            "justify_items": null,
            "left": null,
            "margin": null,
            "max_height": null,
            "max_width": null,
            "min_height": null,
            "min_width": null,
            "object_fit": null,
            "object_position": null,
            "order": null,
            "overflow": null,
            "overflow_x": null,
            "overflow_y": null,
            "padding": null,
            "right": null,
            "top": null,
            "visibility": null,
            "width": null
          }
        },
        "2cfba50ee50c456ea04c0a5be2c991f8": {
          "model_module": "@jupyter-widgets/base",
          "model_name": "LayoutModel",
          "model_module_version": "1.2.0",
          "state": {
            "_model_module": "@jupyter-widgets/base",
            "_model_module_version": "1.2.0",
            "_model_name": "LayoutModel",
            "_view_count": null,
            "_view_module": "@jupyter-widgets/base",
            "_view_module_version": "1.2.0",
            "_view_name": "LayoutView",
            "align_content": null,
            "align_items": null,
            "align_self": null,
            "border": null,
            "bottom": null,
            "display": null,
            "flex": null,
            "flex_flow": null,
            "grid_area": null,
            "grid_auto_columns": null,
            "grid_auto_flow": null,
            "grid_auto_rows": null,
            "grid_column": null,
            "grid_gap": null,
            "grid_row": null,
            "grid_template_areas": null,
            "grid_template_columns": null,
            "grid_template_rows": null,
            "height": null,
            "justify_content": null,
            "justify_items": null,
            "left": null,
            "margin": null,
            "max_height": null,
            "max_width": null,
            "min_height": null,
            "min_width": null,
            "object_fit": null,
            "object_position": null,
            "order": null,
            "overflow": null,
            "overflow_x": null,
            "overflow_y": null,
            "padding": null,
            "right": null,
            "top": null,
            "visibility": null,
            "width": null
          }
        },
        "396e884ccd1c4672b30b82a627de722a": {
          "model_module": "@jupyter-widgets/controls",
          "model_name": "DescriptionStyleModel",
          "model_module_version": "1.5.0",
          "state": {
            "_model_module": "@jupyter-widgets/controls",
            "_model_module_version": "1.5.0",
            "_model_name": "DescriptionStyleModel",
            "_view_count": null,
            "_view_module": "@jupyter-widgets/base",
            "_view_module_version": "1.2.0",
            "_view_name": "StyleView",
            "description_width": ""
          }
        },
        "c7ac373f4924478aad89adf1b23a9b7b": {
          "model_module": "@jupyter-widgets/base",
          "model_name": "LayoutModel",
          "model_module_version": "1.2.0",
          "state": {
            "_model_module": "@jupyter-widgets/base",
            "_model_module_version": "1.2.0",
            "_model_name": "LayoutModel",
            "_view_count": null,
            "_view_module": "@jupyter-widgets/base",
            "_view_module_version": "1.2.0",
            "_view_name": "LayoutView",
            "align_content": null,
            "align_items": null,
            "align_self": null,
            "border": null,
            "bottom": null,
            "display": null,
            "flex": null,
            "flex_flow": null,
            "grid_area": null,
            "grid_auto_columns": null,
            "grid_auto_flow": null,
            "grid_auto_rows": null,
            "grid_column": null,
            "grid_gap": null,
            "grid_row": null,
            "grid_template_areas": null,
            "grid_template_columns": null,
            "grid_template_rows": null,
            "height": null,
            "justify_content": null,
            "justify_items": null,
            "left": null,
            "margin": null,
            "max_height": null,
            "max_width": null,
            "min_height": null,
            "min_width": null,
            "object_fit": null,
            "object_position": null,
            "order": null,
            "overflow": null,
            "overflow_x": null,
            "overflow_y": null,
            "padding": null,
            "right": null,
            "top": null,
            "visibility": null,
            "width": null
          }
        },
        "8a00cdefb9604fa79080a99fec3a99c1": {
          "model_module": "@jupyter-widgets/controls",
          "model_name": "ProgressStyleModel",
          "model_module_version": "1.5.0",
          "state": {
            "_model_module": "@jupyter-widgets/controls",
            "_model_module_version": "1.5.0",
            "_model_name": "ProgressStyleModel",
            "_view_count": null,
            "_view_module": "@jupyter-widgets/base",
            "_view_module_version": "1.2.0",
            "_view_name": "StyleView",
            "bar_color": null,
            "description_width": ""
          }
        },
        "ba87b8a7b2bf464cb1a173ef789fc2fa": {
          "model_module": "@jupyter-widgets/base",
          "model_name": "LayoutModel",
          "model_module_version": "1.2.0",
          "state": {
            "_model_module": "@jupyter-widgets/base",
            "_model_module_version": "1.2.0",
            "_model_name": "LayoutModel",
            "_view_count": null,
            "_view_module": "@jupyter-widgets/base",
            "_view_module_version": "1.2.0",
            "_view_name": "LayoutView",
            "align_content": null,
            "align_items": null,
            "align_self": null,
            "border": null,
            "bottom": null,
            "display": null,
            "flex": null,
            "flex_flow": null,
            "grid_area": null,
            "grid_auto_columns": null,
            "grid_auto_flow": null,
            "grid_auto_rows": null,
            "grid_column": null,
            "grid_gap": null,
            "grid_row": null,
            "grid_template_areas": null,
            "grid_template_columns": null,
            "grid_template_rows": null,
            "height": null,
            "justify_content": null,
            "justify_items": null,
            "left": null,
            "margin": null,
            "max_height": null,
            "max_width": null,
            "min_height": null,
            "min_width": null,
            "object_fit": null,
            "object_position": null,
            "order": null,
            "overflow": null,
            "overflow_x": null,
            "overflow_y": null,
            "padding": null,
            "right": null,
            "top": null,
            "visibility": null,
            "width": null
          }
        },
        "cfe201c5e5614e96b7f9dc8c785918ee": {
          "model_module": "@jupyter-widgets/controls",
          "model_name": "DescriptionStyleModel",
          "model_module_version": "1.5.0",
          "state": {
            "_model_module": "@jupyter-widgets/controls",
            "_model_module_version": "1.5.0",
            "_model_name": "DescriptionStyleModel",
            "_view_count": null,
            "_view_module": "@jupyter-widgets/base",
            "_view_module_version": "1.2.0",
            "_view_name": "StyleView",
            "description_width": ""
          }
        }
      }
    }
  },
  "nbformat": 4,
  "nbformat_minor": 0
}